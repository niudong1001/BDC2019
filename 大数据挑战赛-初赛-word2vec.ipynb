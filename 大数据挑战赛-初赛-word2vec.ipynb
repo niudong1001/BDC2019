{
 "cells": [
  {
   "cell_type": "markdown",
   "metadata": {
    "id": "3F4FAED27F9340CDA7E78F80B8B3B7A9",
    "mdEditEnable": false
   },
   "source": [
    "## 训练word2vec"
   ]
  },
  {
   "cell_type": "code",
   "execution_count": 1,
   "metadata": {
    "id": "9146EF4DBB5C4156B518C1C8FE4EE6E6",
    "scrolled": false
   },
   "outputs": [],
   "source": [
    "from gensim.models import Word2Vec\n",
    "from gensim.models.word2vec import LineSentence\n",
    "from gensim.models.callbacks import CallbackAny2Vec\n",
    "import time, csv\n",
    "ori_train_file = \"/home/kesci/input/bytedance/first-round/train.csv\"\n",
    "word2vec_train_sentences = \"./inputs/word2vec_train_sentences.txt\"\n",
    "model_save_dir = \"./outputs/models\"\n",
    "model_save_file = \"word2vec.model\"\n",
    "import os"
   ]
  },
  {
   "cell_type": "code",
   "execution_count": 2,
   "metadata": {},
   "outputs": [],
   "source": [
    "regen_word2vec = False"
   ]
  },
  {
   "cell_type": "markdown",
   "metadata": {
    "id": "37C771304C9748268FF1BFAC73B875D8",
    "mdEditEnable": false
   },
   "source": [
    "将数据处理成适合word2vec模型直接读取的，一行为一个句子。"
   ]
  },
  {
   "cell_type": "code",
   "execution_count": 3,
   "metadata": {
    "id": "D596020060E4469EA1D12297526C96D2",
    "scrolled": false
   },
   "outputs": [],
   "source": [
    "def PrepareWord2vecSamples(source_csv, save_file):\n",
    "    query_id = -1\n",
    "    since = time.time()\n",
    "    with open(save_file, 'w') as f:\n",
    "        with open(source_csv) as csv_file:\n",
    "            csv_reader = csv.reader(csv_file, delimiter=',')\n",
    "            line_count = 0\n",
    "            for row in csv_reader:\n",
    "                line_count += 1\n",
    "                if row[0] != query_id:\n",
    "                    query_id = row[0]\n",
    "                    f.write(\"{0}\\n\".format(row[1]))\n",
    "                f.write(\"{0}\\n\".format(row[3]))\n",
    "                if line_count % 5000000 == 0: \n",
    "                    print(f'Processed {line_count} lines.')\n",
    "    end = time.time()\n",
    "    print(\"Process use time: %ds\" % (end-since))\n",
    "# PrepareWord2vecSamples(ori_train_file, word2vec_train_sentences)"
   ]
  },
  {
   "cell_type": "markdown",
   "metadata": {
    "id": "7DF301C376084951B787C4FA8C482931",
    "mdEditEnable": false
   },
   "source": [
    "建立记录word2vec训练过程的类。"
   ]
  },
  {
   "cell_type": "code",
   "execution_count": 5,
   "metadata": {
    "id": "EC72E7644833411BA2E5CA5F8D1E61F8",
    "scrolled": false
   },
   "outputs": [],
   "source": [
    "class EpochSaver(CallbackAny2Vec):\n",
    "    '''用于保存模型, 打印损失函数等等'''\n",
    "    def __init__(self, savedir, save_name=\"word2vector.model\"):\n",
    "        os.makedirs(savedir, exist_ok=True)\n",
    "        self.save_path = os.path.join(savedir, save_name)\n",
    "        self.epoch = 0\n",
    "        self.pre_loss = 0\n",
    "        self.best_loss = 999999999.9\n",
    "        self.since = time.time()\n",
    "\n",
    "    def on_epoch_end(self, model):\n",
    "        self.epoch += 1\n",
    "        cum_loss = model.get_latest_training_loss() # 返回的是从第一个epoch累计的\n",
    "        epoch_loss = cum_loss - self.pre_loss\n",
    "        time_taken = time.time() - self.since\n",
    "        print(\"Epoch %d, loss: %.2f, time: %dmin %ds\" % \n",
    "                    (self.epoch, epoch_loss, time_taken//60, time_taken%60))\n",
    "        if self.best_loss > epoch_loss and epoch_loss > 0:\n",
    "            self.best_loss = epoch_loss\n",
    "            print(\"Better model. Best loss: %.2f\" % self.best_loss)\n",
    "            model.save(self.save_path)\n",
    "            print(\"Model %s save done!\" % self.save_path)\n",
    "        self.pre_loss = cum_loss\n",
    "        self.since = time.time()"
   ]
  },
  {
   "cell_type": "code",
   "execution_count": 5,
   "metadata": {
    "id": "391B298843854A77BC084736EA32F8F5",
    "scrolled": false
   },
   "outputs": [],
   "source": [
    "if regen_word2vec:\n",
    "    # 1, 构建模型(不训练)\n",
    "    model_word2vec = Word2Vec(min_count=2, \n",
    "                              window=10, \n",
    "                              size=200,\n",
    "                              workers=4,\n",
    "                              batch_words=100000)"
   ]
  },
  {
   "cell_type": "code",
   "execution_count": 6,
   "metadata": {
    "id": "FFB3F3EAFC584C2B8FD379DC7AA6C497",
    "scrolled": false
   },
   "outputs": [],
   "source": [
    "if regen_word2vec:\n",
    "    # 2, 遍历一遍语料库\n",
    "    since = time.time()\n",
    "    model_word2vec.build_vocab(\n",
    "        LineSentence(word2vec_train_sentences), \n",
    "        progress_per=20000000\n",
    "    )\n",
    "    time_elapsed = time.time() - since\n",
    "    print('Time to build vocab: {:.0f}min {:.0f}s'.format(time_elapsed // 60, time_elapsed % 60))"
   ]
  },
  {
   "cell_type": "code",
   "execution_count": 7,
   "metadata": {
    "id": "9CD8B3D80D5C4654A0C438649793335C",
    "scrolled": false
   },
   "outputs": [],
   "source": [
    "if regen_word2vec:\n",
    "    # 3, 训练\n",
    "    since = time.time()\n",
    "    model_word2vec.train(\n",
    "        LineSentence(word2vec_train_sentences), \n",
    "        total_examples=model_word2vec.corpus_count, \n",
    "        epochs=15, compute_loss=True, report_delay=60*10, # 每隔10分钟输出一下日志\n",
    "        callbacks=[EpochSaver(model_save_dir, model_save_file)])\n",
    "    time_elapsed = time.time() - since\n",
    "    print('Time to train: {:.0f}min {:.0f}s'.format(time_elapsed // 60, time_elapsed % 60))"
   ]
  }
 ],
 "metadata": {
  "kernelspec": {
   "display_name": "Python 3",
   "language": "python",
   "name": "python3"
  },
  "language_info": {
   "codemirror_mode": {
    "name": "ipython",
    "version": 3
   },
   "file_extension": ".py",
   "mimetype": "text/x-python",
   "name": "python",
   "nbconvert_exporter": "python",
   "pygments_lexer": "ipython3",
   "version": "3.6.5"
  }
 },
 "nbformat": 4,
 "nbformat_minor": 1
}
