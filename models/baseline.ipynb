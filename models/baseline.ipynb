{
 "cells": [
  {
   "cell_type": "markdown",
   "metadata": {
    "id": "99AFB710F338484CA769DD4FB7A71F47",
    "mdEditEnable": false
   },
   "source": [
    "# Baseline\n",
    "\n",
    "本文档是使用tfIdf+lr并随机采样1000万条数据建立的Baseline模型。"
   ]
  },
  {
   "cell_type": "code",
   "execution_count": 14,
   "metadata": {
    "id": "5B370DC99A644BA09097241959E5904B",
    "scrolled": false
   },
   "outputs": [
    {
     "name": "stdout",
     "output_type": "stream",
     "text": [
      "total 64\r\n",
      "drwxr-xr-x  5 niudong  staff    160  5 29 15:51 \u001b[1m\u001b[36m.\u001b[m\u001b[m\r\n",
      "drwxr-xr-x  9 niudong  staff    288  5 29 15:20 \u001b[1m\u001b[36m..\u001b[m\u001b[m\r\n",
      "-rw-r--r--@ 1 niudong  staff   6148  5 29 15:51 .DS_Store\r\n",
      "drwxr-xr-x  3 niudong  staff     96  5 29 14:31 \u001b[1m\u001b[36m.ipynb_checkpoints\u001b[m\u001b[m\r\n",
      "-rw-r--r--@ 1 niudong  staff  21989  5 29 15:51 baseline.ipynb\r\n"
     ]
    }
   ],
   "source": [
    "! ls -al"
   ]
  },
  {
   "cell_type": "markdown",
   "metadata": {
    "id": "75107ABF60474734B3218B323547CD10"
   },
   "source": [
    "## 导入各种库"
   ]
  },
  {
   "cell_type": "code",
   "execution_count": 15,
   "metadata": {
    "id": "CD9FC0A1BD9E4080891FD56100DF1857",
    "scrolled": false
   },
   "outputs": [],
   "source": [
    "import pandas as pd\n",
    "import numpy as np\n",
    "import time\n",
    "import random\n",
    "import gc\n",
    "import sys"
   ]
  },
  {
   "cell_type": "code",
   "execution_count": 16,
   "metadata": {
    "id": "DB23999D160C42F6A1015D571E3FF8C9",
    "scrolled": false
   },
   "outputs": [],
   "source": [
    "# 是否为线下调试\n",
    "debug = True"
   ]
  },
  {
   "cell_type": "code",
   "execution_count": 17,
   "metadata": {
    "id": "97BE5B1479D84DE5AF29FD1846854E48",
    "scrolled": false
   },
   "outputs": [
    {
     "name": "stdout",
     "output_type": "stream",
     "text": [
      "total 9392\r\n",
      "-rw-r--r--@ 1 niudong  staff   1.7M  5 29 14:28 train_data.csv\r\n",
      "-rw-r--r--@ 1 niudong  staff   1.6M  5 29 15:41 train_processed.csv\r\n",
      "-rw-r--r--@ 1 niudong  staff   282K  5 13 12:17 大数据挑战赛_sample.txt\r\n"
     ]
    }
   ],
   "source": [
    "# 数据集参数\n",
    "if debug:\n",
    "    !ls -lh ../data\n",
    "    data_dir = \"../data/\"\n",
    "    train_data_file = data_dir + \"train_data.csv\"\n",
    "else:\n",
    "    !ls -lh /home/kesci/input/bytedance/first-round/\n",
    "    data_dir = \"/home/kesci/input/bytedance/first-round/\"\n",
    "    train_data_file = data_dir + \"train.csv\"\n",
    "    test_data_file = data_dir + \"test.csv\"\n",
    "# csv的header\n",
    "ori_train_names = [\"query_id\", \"query\", \"query_title_id\", \"title\", \"label\"]\n",
    "ori_test_names = [\"query_id\", \"query\", \"query_title_id\", \"title\"]\n",
    "train_names = [\"feature\", \"label\"]\n",
    "test_names = [\"query_id\", \"query_title_id\", \"feature\"]\n",
    "submit_names = [\"query_id\", \"query_title_id\", \"label\"]"
   ]
  },
  {
   "cell_type": "markdown",
   "metadata": {
    "id": "F1E34647AB364B6892085DAE44C415F4"
   },
   "source": [
    "## 辅助函数"
   ]
  },
  {
   "cell_type": "code",
   "execution_count": 18,
   "metadata": {
    "id": "D1272445B33D4F9D910FB6C7C1C52816",
    "scrolled": false
   },
   "outputs": [],
   "source": [
    "# 计算执行某个函数需要的时间\n",
    "class Timer(object):\n",
    "    \"\"\"\n",
    "    Record the consumed time when ran a code block.\n",
    "    \"\"\"\n",
    "    def __init__(self, block_name, prefix=\"----->\"):\n",
    "        self.block_name = block_name\n",
    "        self.prefix = prefix\n",
    "\n",
    "    def __enter__(self):\n",
    "        print(self.prefix+\"Started '\"+self.block_name+\"' block...\")\n",
    "        self.time_start = time.time()\n",
    "\n",
    "    def __exit__(self, exc_type, exc_val, exc_tb):\n",
    "        elapsed_time = round(time.time() - self.time_start, 2)\n",
    "        print(self.prefix+\"Finished '\"+self.block_name+\"' block, time used:\", str(elapsed_time)+\"s.\")"
   ]
  },
  {
   "cell_type": "code",
   "execution_count": 19,
   "metadata": {
    "id": "33A2EB76A8064AAB8457B362B4681B3F",
    "scrolled": false
   },
   "outputs": [],
   "source": [
    "# 读取CSV文件\n",
    "def ReadCSV(filename, names, sep=\",\", iterator=True):\n",
    "    # http://pandas.pydata.org/pandas-docs/stable/reference/api/pandas.read_csv.html#pandas.read_csv\n",
    "    return pd.read_csv(\n",
    "        filename, \n",
    "        names=names,\n",
    "        sep=sep,\n",
    "        iterator=iterator\n",
    "    )"
   ]
  },
  {
   "cell_type": "code",
   "execution_count": 20,
   "metadata": {
    "id": "3AAEC94835BD44B6A76056D05E9BB5DB",
    "scrolled": false
   },
   "outputs": [],
   "source": [
    "# 批量读入数据，并apply处理函数\n",
    "def ProcessChunk(filename, func, names, chunk_size=5000000):\n",
    "    reader = ReadCSV(filename, names)\n",
    "    while True:\n",
    "        try:\n",
    "            print(\"Reading chunk...\")\n",
    "            func(reader.get_chunk(chunk_size))\n",
    "        except StopIteration:\n",
    "            print(\"Finished process.\")\n",
    "            return\n",
    "# def handle(x):\n",
    "#     print(x)\n",
    "#     print()\n",
    "# ProcessChunk(train_data_file, handle, names=ori_train_names, chunk_size=5)"
   ]
  },
  {
   "cell_type": "code",
   "execution_count": 21,
   "metadata": {
    "id": "C1F5D0B58E1640538F27FC38BD86047E",
    "scrolled": false
   },
   "outputs": [],
   "source": [
    "# 蓄水池读文件, 本方法巨慢无比!\n",
    "def ReservoirSample(filename, count, names=ori_train_names):\n",
    "    print(\"Reservoir sample...\")\n",
    "    reader = ReadCSV(filename, names)\n",
    "    try:\n",
    "        # 对于前面count个元素完全选择\n",
    "        res = reader.get_chunk(count)\n",
    "    except StopIteration:\n",
    "        print(\"Count exceeds the file size.\")\n",
    "        return res\n",
    "    i = count\n",
    "    while True:\n",
    "        try:\n",
    "            i += 1\n",
    "            # https://docs.scipy.org/doc/numpy/reference/generated/numpy.random.randint.html\n",
    "            tmp = random.randint(1, i+1)\n",
    "            datapoint = reader.get_chunk(1).iloc[0]\n",
    "            if tmp <= count:\n",
    "                res.iloc[tmp - 1] = datapoint\n",
    "        except StopIteration:\n",
    "            print(\"Finished sample.\")\n",
    "            return res\n",
    "# tmp = ReservoirSample(train_data_file, 5)\n",
    "# print(tmp)"
   ]
  },
  {
   "cell_type": "code",
   "execution_count": 22,
   "metadata": {
    "id": "AED08A2AE24C4ABE81DBAC593EB9F9F0",
    "scrolled": false
   },
   "outputs": [],
   "source": [
    "# 按照rate比例从每个chunk中随机采样样本\n",
    "def RandomSample(filename, rate, chunk_size=1000000, random_state=None, names=ori_train_names):\n",
    "    print(\"Random sample...\")\n",
    "    reader = ReadCSV(filename, names)\n",
    "    chunks = []\n",
    "    while True:\n",
    "        try:\n",
    "            # https://pandas.pydata.org/pandas-docs/stable/reference/api/pandas.DataFrame.sample.html\n",
    "            chunks.append(reader.get_chunk(chunk_size).sample(\n",
    "                n=int(chunk_size*rate), \n",
    "                random_state=random_state)\n",
    "            )\n",
    "        except StopIteration:\n",
    "            print(\"Finished sample.\")\n",
    "            break\n",
    "    # 删除无用引用, https://blog.csdn.net/jiangjiang_jian/article/details/79140742\n",
    "    # for x in locals().keys():\n",
    "    #     if x != \"res\":\n",
    "    #         # 会被放入内存池？\n",
    "    #         del locals()[x]\n",
    "    # gc.collect()\n",
    "    return pd.concat(chunks, ignore_index=True)\n",
    "# tmp = RandomSample(train_data_file, .5, chunk_size=5)\n",
    "# print(tmp)"
   ]
  },
  {
   "cell_type": "code",
   "execution_count": 27,
   "metadata": {
    "id": "868FDCDAC95545979D65AA36EECC79D4",
    "scrolled": false
   },
   "outputs": [
    {
     "name": "stdout",
     "output_type": "stream",
     "text": [
      "----->Started 'Process feature' block...\n",
      "Start processing...\n",
      "Finished process.\n",
      "Saved to the file.\n",
      "----->Finished 'Process feature' block, time used: 0.75s.\n"
     ]
    }
   ],
   "source": [
    "# 重新组合特征\n",
    "def ProcessFeatures(filename, train=True, names=ori_train_names, datadir=data_dir):\n",
    "    reader = ReadCSV(filename, names)\n",
    "    f = lambda x: x[1] + \" s \" + x[3]\n",
    "    count, chunk_size = 1, 10000000\n",
    "    print(\"Start processing...\")\n",
    "    chunks = []\n",
    "    while True:\n",
    "        try:\n",
    "            chunks.append(reader.get_chunk(chunk_size))\n",
    "        except StopIteration:\n",
    "            print(\"Finished process.\")\n",
    "            break\n",
    "    df = pd.concat(chunks, ignore_index=True)\n",
    "    if train:\n",
    "        fname = \"train_processed.csv\"\n",
    "        pd.DataFrame({\n",
    "            \"feature\": df.apply(f, axis=1), \n",
    "            \"label\": df.label}).to_csv(\n",
    "            fname, header=None, index=None)\n",
    "    else:\n",
    "        fname = \"test_processed.csv\"\n",
    "        pd.DataFrame({\n",
    "            \"query_id\":df.iloc[:, 0],\n",
    "            \"query_title_id\": df.iloc[:, 2],\n",
    "            \"feature\": df.apply(f, axis=1)\n",
    "        }).to_csv(\n",
    "            fname, header=None, index=None)\n",
    "    \n",
    "    del df\n",
    "    gc.collect()\n",
    "    \n",
    "    print(\"Saved to the file.\")\n",
    "\n",
    "# with Timer(\"Process feature\"):\n",
    "#     ProcessFeatures(train_data_file)\n",
    "#     # 线上处理test数据时候需要调用\n",
    "#     if not debug:\n",
    "#         ProcessFeatures(test_data_file, train=False, names=ori_test_names)"
   ]
  },
  {
   "cell_type": "markdown",
   "metadata": {
    "id": "92D969AB64594C188BBFEA40CE7E93E2"
   },
   "source": [
    "## 数据预处理"
   ]
  },
  {
   "cell_type": "code",
   "execution_count": 24,
   "metadata": {
    "id": "B84852DACBE14E9A86C81EA3B881BA6A",
    "scrolled": false
   },
   "outputs": [],
   "source": [
    "def pr(o):\n",
    "    print(o[:5])\n",
    "    sys.exit(0)"
   ]
  },
  {
   "cell_type": "code",
   "execution_count": 28,
   "metadata": {
    "id": "3FB10C4D61C6455B953DC11E91611D6F",
    "scrolled": false
   },
   "outputs": [],
   "source": [
    "train_file = \"train_processed.csv\"\n",
    "test_file = \"test_processed.csv\""
   ]
  },
  {
   "cell_type": "code",
   "execution_count": 29,
   "metadata": {
    "id": "E417A3A22C3A493DA6023886F7244893",
    "scrolled": false
   },
   "outputs": [
    {
     "name": "stdout",
     "output_type": "stream",
     "text": [
      "Reading chunk...\n",
      "                                             feature  label\n",
      "0  1427 5661 29788 1427 387 2299 372 22 1586 1025...      1\n",
      "1  1427 5661 29788 1427 387 2299 372 22 1586 1025...      0\n",
      "2  1427 5661 29788 1427 387 2299 372 22 1586 1025...      1\n",
      "3  1427 5661 29788 1427 361 22 1374 279 1196 27 7...      0\n",
      "4  1427 5661 29788 1427 361 22 1374 279 1196 27 7...      1\n"
     ]
    },
    {
     "ename": "SystemExit",
     "evalue": "0",
     "output_type": "error",
     "traceback": [
      "An exception has occurred, use %tb to see the full traceback.\n",
      "\u001b[0;31mSystemExit\u001b[0m\u001b[0;31m:\u001b[0m 0\n"
     ]
    },
    {
     "name": "stderr",
     "output_type": "stream",
     "text": [
      "/Users/niudong/workon_home/py3/lib/python3.6/site-packages/IPython/core/interactiveshell.py:2969: UserWarning: To exit: use 'exit', 'quit', or Ctrl-D.\n",
      "  warn(\"To exit: use 'exit', 'quit', or Ctrl-D.\", stacklevel=1)\n"
     ]
    }
   ],
   "source": [
    "# 看一下训练数据对不对\n",
    "ProcessChunk(train_file, pr, names=train_names, chunk_size=500)"
   ]
  },
  {
   "cell_type": "code",
   "execution_count": 30,
   "metadata": {
    "id": "073B21086A874771890FEA8FC7B2E509",
    "scrolled": false
   },
   "outputs": [],
   "source": [
    "# 看一下测试数据对不对\n",
    "if not debug:\n",
    "    ProcessChunk(test_file, pr, names=test_names, chunk_size=500)"
   ]
  },
  {
   "cell_type": "code",
   "execution_count": 31,
   "metadata": {
    "id": "CECFE7B083484DD9977BD82C0F2075AE",
    "scrolled": false
   },
   "outputs": [
    {
     "name": "stdout",
     "output_type": "stream",
     "text": [
      "----->Started 'Random sample' block...\n",
      "Random sample...\n",
      "Finished sample.\n",
      "----->Finished 'Random sample' block, time used: 0.12s.\n"
     ]
    }
   ],
   "source": [
    "# 随机采样1000万数据\n",
    "with Timer(\"Random sample\"):\n",
    "    if debug:\n",
    "        chunk_size = 1000\n",
    "    else:\n",
    "        chunk_size = 5000000\n",
    "    train_random_data = RandomSample(train_file, .1, names=train_names, chunk_size=chunk_size)\n",
    "    train_data_num = len(train_random_data)"
   ]
  },
  {
   "cell_type": "code",
   "execution_count": 32,
   "metadata": {
    "id": "12253DB906C649B991B80306EAA8FDA2",
    "scrolled": false
   },
   "outputs": [],
   "source": [
    "# 全部采样所有的测试数据集\n",
    "if not debug:\n",
    "    test_data = ReadCSV(test_file, names=test_names, iterator=False)\n",
    "    test_data_num = len(test_data)"
   ]
  },
  {
   "cell_type": "markdown",
   "metadata": {
    "id": "72B917E3E356496B886B9FF6F8CDD8D4",
    "mdEditEnable": false
   },
   "source": [
    "## 模型"
   ]
  },
  {
   "cell_type": "code",
   "execution_count": 33,
   "metadata": {
    "id": "DE032C070CD6439E856DD082D7CA7B44",
    "scrolled": false
   },
   "outputs": [],
   "source": [
    "from sklearn.feature_extraction.text import TfidfVectorizer, CountVectorizer, TfidfTransformer\n",
    "from sklearn.linear_model import LogisticRegression\n",
    "from sklearn import metrics\n",
    "from sklearn.linear_model import SGDClassifier\n",
    "# https://scikit-learn.org/stable/modules/generated/sklearn.naive_bayes.GaussianNB.html\n",
    "from sklearn.naive_bayes import GaussianNB"
   ]
  },
  {
   "cell_type": "code",
   "execution_count": 34,
   "metadata": {
    "id": "05F2EDA12E894DB49E34C60DDDA7DE01",
    "scrolled": false
   },
   "outputs": [],
   "source": [
    "def tokenizer(text):\n",
    "    return text.split(\" \")"
   ]
  },
  {
   "cell_type": "code",
   "execution_count": 35,
   "metadata": {
    "id": "C4C0B43E0DFB4B17A1476D4D7733D45A",
    "scrolled": false
   },
   "outputs": [],
   "source": [
    "tfidf_model = TfidfVectorizer(\n",
    "    tokenizer=tokenizer, \n",
    "    analyzer=\"word\",\n",
    "    ngram_range=(1,1))"
   ]
  },
  {
   "cell_type": "code",
   "execution_count": 36,
   "metadata": {
    "id": "C0DE7F38532D4A9D99804124CAE53879",
    "scrolled": false
   },
   "outputs": [],
   "source": [
    "def getTfidf(docs, train=True):\n",
    "    model = tfidf_model\n",
    "    if train:\n",
    "        X = model.fit_transform(docs)\n",
    "    else:\n",
    "        X = model.transform(docs)\n",
    "    return X"
   ]
  },
  {
   "cell_type": "code",
   "execution_count": 37,
   "metadata": {
    "id": "824A02B4EDAD4EEB9C1D0C6F66E1F70B",
    "scrolled": false
   },
   "outputs": [
    {
     "name": "stdout",
     "output_type": "stream",
     "text": [
      "----->Started 'Process tfidf' block...\n",
      "----->Finished 'Process tfidf' block, time used: 0.07s.\n"
     ]
    }
   ],
   "source": [
    "with Timer(\"Process tfidf\"):\n",
    "    if debug:\n",
    "        X = getTfidf(train_random_data.feature)\n",
    "    else:\n",
    "        X = getTfidf(pd.concat(\n",
    "                    [train_random_data.feature, \n",
    "                    test_data.feature], ignore_index=True))\n",
    "# 获得训练集的labels\n",
    "train_labels = train_random_data.label.to_list()"
   ]
  },
  {
   "cell_type": "code",
   "execution_count": 38,
   "metadata": {
    "id": "B1768058EE4E409D92755B5E5647A281",
    "scrolled": false
   },
   "outputs": [
    {
     "name": "stdout",
     "output_type": "stream",
     "text": [
      "  (0, 1034)\t0.613449250305667\n",
      "  (0, 7040)\t0.5819970194722318\n",
      "  (0, 10465)\t0.038785372901981974\n",
      "  (0, 5721)\t0.264114537862141\n",
      "  (0, 7837)\t0.2529566814048837\n",
      "  (0, 1888)\t0.07957795061152707\n",
      "  (0, 6824)\t0.2798406532788586\n",
      "  (0, 3800)\t0.2372305659881661\n",
      "  (0, 463)\t0.09375407621041987\n",
      "[0, 0, 1, 0, 0]\n"
     ]
    }
   ],
   "source": [
    "print(X[0])\n",
    "print(train_labels[:5])"
   ]
  },
  {
   "cell_type": "code",
   "execution_count": 39,
   "metadata": {
    "id": "CEA202564168469EADB252272E2A5B03",
    "scrolled": false
   },
   "outputs": [],
   "source": [
    "def lrTrain(train=True):\n",
    "    \n",
    "    global X\n",
    "    \n",
    "    if train:\n",
    "        times = 1\n",
    "    else:\n",
    "        times = 1\n",
    "    for i in range(times):\n",
    "        \n",
    "        print(\"Prepare features...\")\n",
    "        train_features = X[:train_data_num]\n",
    "        test_features = X[train_data_num:]\n",
    "        \n",
    "        if train:\n",
    "            split_train = int(train_data_num*0.7)\n",
    "            train_X, test_X = train_features[:split_train], train_features[split_train:]\n",
    "            train_y, test_y = train_labels[:split_train], train_labels[split_train:]\n",
    "        else:\n",
    "            train_X, test_X = train_features, test_features\n",
    "            train_y = train_labels\n",
    "            \n",
    "        model = LogisticRegression(C=5, solver=\"liblinear\")\n",
    "        print(\"Fitting model...\")\n",
    "        pred = model.fit(train_X, train_y).predict_proba(test_X)[:, 1]\n",
    "        \n",
    "        if train:\n",
    "            fpr, tpr, thresholds = metrics.roc_curve(test_y, pred, pos_label=1)\n",
    "            res = metrics.auc(fpr, tpr)\n",
    "            print(\"AUC:\", res)\n",
    "        else:\n",
    "            res = []\n",
    "            for i in range(test_data_num):\n",
    "                tmp = test_data.iloc[i]\n",
    "                res.append([tmp[0], tmp[1], pred[i]])\n",
    "            print(res[:10])\n",
    "            pd.DataFrame(np.array(res)).to_csv(\"submit.csv\", index=False, header=None)\n",
    "            \n",
    "    for x in locals().keys():\n",
    "        del locals()[x]\n",
    "    gc.collect()"
   ]
  },
  {
   "cell_type": "code",
   "execution_count": 40,
   "metadata": {
    "id": "808E527F8D3F492F8F92A26BB30445DF",
    "scrolled": false
   },
   "outputs": [
    {
     "name": "stdout",
     "output_type": "stream",
     "text": [
      "----->Started 'lr train' block...\n",
      "Prepare features...\n",
      "Fitting model...\n",
      "AUC: 0.5241347616632861\n",
      "----->Finished 'lr train' block, time used: 0.08s.\n"
     ]
    }
   ],
   "source": [
    "# 执行训练阶段\n",
    "with Timer(\"lr train\"):\n",
    "    lrTrain(True)"
   ]
  },
  {
   "cell_type": "markdown",
   "metadata": {
    "id": "805571559CFE49F582EFF70FFF4C984E"
   },
   "source": [
    "## 提交结果"
   ]
  },
  {
   "cell_type": "code",
   "execution_count": 41,
   "metadata": {
    "id": "DAE287ECE66B49C89A1736A473EA87A4"
   },
   "outputs": [
    {
     "name": "stdout",
     "output_type": "stream",
     "text": [
      "/bin/sh: ./kesci_submit: No such file or directory\r\n"
     ]
    }
   ],
   "source": [
    "# 第一次执行需要\n",
    "# !wget -nv -O kesci_submit https://www.heywhale.com/kesci_submit&&chmod +x kesci_submit\n",
    "!./kesci_submit -token 490475a1ae106f67 -file submit.csv"
   ]
  }
 ],
 "metadata": {
  "kernelspec": {
   "display_name": "Python 3",
   "language": "python",
   "name": "python3"
  },
  "language_info": {
   "codemirror_mode": {
    "name": "ipython",
    "version": 3
   },
   "file_extension": ".py",
   "mimetype": "text/x-python",
   "name": "python",
   "nbconvert_exporter": "python",
   "pygments_lexer": "ipython3",
   "version": "3.6.5"
  }
 },
 "nbformat": 4,
 "nbformat_minor": 2
}
