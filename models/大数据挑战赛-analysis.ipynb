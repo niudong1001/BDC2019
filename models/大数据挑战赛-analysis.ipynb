{
 "cells": [
  {
   "cell_type": "code",
   "execution_count": 52,
   "metadata": {
    "id": "D465F35808444728A922E47BAEE20537",
    "scrolled": false
   },
   "outputs": [],
   "source": [
    "import pandas as pd\n",
    "import numpy as np\n",
    "import time\n",
    "import random\n",
    "import gc\n",
    "import sys\n",
    "import seaborn as sns\n",
    "import matplotlib.pyplot as plt\n",
    "from utils import ReadCSV, ProcessChunk, Timer, RandomSample"
   ]
  },
  {
   "cell_type": "markdown",
   "metadata": {
    "id": "A95285FB6CF640F7A8DB50B9473AF455",
    "mdEditEnable": false
   },
   "source": [
    "## 参数设置"
   ]
  },
  {
   "cell_type": "code",
   "execution_count": 17,
   "metadata": {
    "id": "75AAEDDB844E4F188DB56151C0126314",
    "scrolled": false
   },
   "outputs": [
    {
     "name": "stdout",
     "output_type": "stream",
     "text": [
      "total 4096\r\n",
      "drwxr-xr-x  13 niudong  staff      416  6  1 20:47 \u001b[1m\u001b[36m.\u001b[m\u001b[m\r\n",
      "drwxr-xr-x   9 niudong  staff      288  5 31 21:00 \u001b[1m\u001b[36m..\u001b[m\u001b[m\r\n",
      "-rw-r--r--@  1 niudong  staff     6148  5 30 22:54 .DS_Store\r\n",
      "drwxr-xr-x   5 niudong  staff      160  6  1 10:03 \u001b[1m\u001b[36m.ipynb_checkpoints\u001b[m\u001b[m\r\n",
      "drwxr-xr-x   3 niudong  staff       96  6  1 11:39 \u001b[1m\u001b[36m__pycache__\u001b[m\u001b[m\r\n",
      "-rw-r--r--   1 niudong  staff    57674  6  1 20:42 analysis.ipynb\r\n",
      "-rw-r--r--@  1 niudong  staff    20751  5 29 15:53 baseline.ipynb\r\n",
      "drwxr-xr-x   7 niudong  staff      224  6  1 10:31 \u001b[1m\u001b[36mreal-stats\u001b[m\u001b[m\r\n",
      "drwxr-xr-x  20 niudong  staff      640  6  1 10:03 \u001b[1m\u001b[36mstats\u001b[m\u001b[m\r\n",
      "-rw-r--r--   1 niudong  staff  1670182  5 29 15:52 train_processed.csv\r\n",
      "-rw-r--r--   1 niudong  staff     2425  6  1 11:39 utils.py\r\n",
      "-rw-r--r--   1 niudong  staff   309182  6  1 10:04 v1.ipynb\r\n",
      "-rw-r--r--@  1 niudong  staff    12739  6  1 20:47 大数据挑战赛-analysis.ipynb\r\n"
     ]
    }
   ],
   "source": [
    "# 是否为线下调试\n",
    "debug = True\n",
    "# ! mkdir stats\n",
    "! ls -al"
   ]
  },
  {
   "cell_type": "code",
   "execution_count": 18,
   "metadata": {
    "id": "525F9E74396E458CB3C9885399AA8B89",
    "scrolled": false
   },
   "outputs": [
    {
     "name": "stdout",
     "output_type": "stream",
     "text": [
      "total 5296\r\n",
      "-rw-r--r--  1 niudong  staff   155B  5 30 18:41 test_data.csv\r\n",
      "-rw-r--r--@ 1 niudong  staff   1.7M  5 29 14:28 train_data.csv\r\n",
      "-rw-r--r--@ 1 niudong  staff   282K  5 13 12:17 大数据挑战赛_sample.txt\r\n"
     ]
    }
   ],
   "source": [
    "# 数据集参数\n",
    "if debug:\n",
    "    !ls -lh ../data\n",
    "    data_dir = \"../data/\"\n",
    "    train_data_file = data_dir + \"train_data.csv\"\n",
    "    test_data_file = data_dir + \"test_data.csv\"\n",
    "else:\n",
    "    !ls -lh /home/kesci/input/bytedance/first-round/\n",
    "    data_dir = \"/home/kesci/input/bytedance/first-round/\"\n",
    "    train_data_file = data_dir + \"train.csv\"\n",
    "    test_data_file = data_dir + \"test.csv\"\n",
    "# csv的header\n",
    "ori_train_names = [\"query_id\", \"query\", \"query_title_id\", \"title\", \"label\"]\n",
    "ori_test_names = [\"query_id\", \"query\", \"query_title_id\", \"title\"]"
   ]
  },
  {
   "cell_type": "markdown",
   "metadata": {
    "id": "FE6B332489134F518C94F4D44A87B69C",
    "mdEditEnable": false
   },
   "source": [
    "## 辅助打印函数"
   ]
  },
  {
   "cell_type": "code",
   "execution_count": 19,
   "metadata": {
    "id": "C476EDB46DEE4FB1941662A49BF1626E",
    "scrolled": false
   },
   "outputs": [],
   "source": [
    "def Plot(plot_param, \n",
    "         plot_func,\n",
    "         xlabel,\n",
    "         ylabel,\n",
    "         savefile,\n",
    "         figsize=(8, 4), \n",
    "         vertical=False):\n",
    "    plt.figure(figsize=figsize)\n",
    "    plot_func(**plot_param)\n",
    "    plt.xlabel(xlabel, fontsize=12)\n",
    "    plt.ylabel(ylabel, fontsize=12)\n",
    "    if vertical:\n",
    "        plt.xticks(rotation='vertical')\n",
    "    plt.savefig(savefile)\n",
    "    plt.show()"
   ]
  },
  {
   "cell_type": "code",
   "execution_count": 20,
   "metadata": {
    "id": "40D18812D9494A73AF691113965FB88E",
    "scrolled": false
   },
   "outputs": [],
   "source": [
    "def PlotBar(dfx, dfy, \n",
    "            xlabel, \n",
    "            ylabel, \n",
    "            savefile, \n",
    "            figsize=(8, 4), \n",
    "            vertical=False):    \n",
    "    Plot({\"x\":dfx, \"y\":dfy, \"alpha\":0.8}, \n",
    "         sns.barplot,\n",
    "         xlabel, \n",
    "         ylabel, \n",
    "         savefile,\n",
    "         figsize,\n",
    "         vertical\n",
    "        )"
   ]
  },
  {
   "cell_type": "code",
   "execution_count": 21,
   "metadata": {
    "id": "4854EDDBA6BA495F8F67FA4F80549940",
    "scrolled": false
   },
   "outputs": [],
   "source": [
    "def PlotBox(df, \n",
    "            x, y, \n",
    "            xlabel, \n",
    "            ylabel, \n",
    "            savefile, \n",
    "            figsize=(12, 6),\n",
    "            vertical=False):\n",
    "    Plot({\"x\":x, \"y\":y, \"data\":df}, \n",
    "         sns.boxplot,\n",
    "         xlabel, \n",
    "         ylabel, \n",
    "         savefile,\n",
    "         figsize,\n",
    "         vertical\n",
    "        )"
   ]
  },
  {
   "cell_type": "code",
   "execution_count": 22,
   "metadata": {
    "id": "B007261547114D099829F925EF8C4E08",
    "scrolled": false
   },
   "outputs": [],
   "source": [
    "def PlotPoint(x, y, \n",
    "              xlabel, \n",
    "              ylabel, \n",
    "              savefile, \n",
    "              figsize=(12, 8), \n",
    "              vertical=False):\n",
    "    Plot({\"x\":x, \"y\":y, \"alpha\":0.8}, \n",
    "         sns.pointplot,\n",
    "         xlabel, \n",
    "         ylabel, \n",
    "         savefile,\n",
    "         figsize,\n",
    "         vertical\n",
    "        )"
   ]
  },
  {
   "cell_type": "markdown",
   "metadata": {
    "id": "6196273BF67D48D18EE4E87DA68BA93C",
    "mdEditEnable": false
   },
   "source": [
    "## 分析函数"
   ]
  },
  {
   "cell_type": "code",
   "execution_count": 23,
   "metadata": {
    "id": "E6DAEEE566C845589F9FC160AD9A9838",
    "scrolled": false
   },
   "outputs": [],
   "source": [
    "# 看label的分布\n",
    "def AnalysisLabel(df):\n",
    "    print(\"--->Label Ananlysis\")\n",
    "    count_label = df[\"label\"].value_counts()\n",
    "    PlotBar(count_label.index, \n",
    "            count_label.values, \n",
    "            xlabel=\"Clicked\",\n",
    "            ylabel=\"Number of occurrences\",\n",
    "            savefile= stat_save_dir+\"label_dis.png\"\n",
    "           )\n",
    "    print(count_label / count_label.sum())\n",
    "    del count_label\n",
    "    gc.collect()"
   ]
  },
  {
   "cell_type": "code",
   "execution_count": 67,
   "metadata": {
    "id": "B6B79AAEE3DF4C8E87237F7D0B5FD7DA",
    "scrolled": false
   },
   "outputs": [],
   "source": [
    "# 看feature的单词数目分布\n",
    "def AnalysisFeatureWordNum(df, name=\"query\", label_rel=True):\n",
    "    print(\"--->Word num in feature \" + name)\n",
    "    # print(df[name][:10])\n",
    "    tmp = df[name].apply(\n",
    "        lambda x: len(str(x).split(\" \"))\n",
    "    )\n",
    "    # print(tmp[:10])\n",
    "    tmp_count = tmp.value_counts()\n",
    "    PlotBar(tmp_count.index,  # feature中单词的数目\n",
    "            tmp_count.values,  # 固定数目feature出现的次数\n",
    "            xlabel=\"Number of words in \" + name,\n",
    "            ylabel=\"Number of occurrences\",\n",
    "            savefile=stat_save_dir+\"word_num_in_\"+name+\".png\",\n",
    "            vertical=True\n",
    "           )\n",
    "    if label_rel:\n",
    "        num_df = pd.DataFrame({\n",
    "            \"feature_word_num_log1p\": np.log1p(tmp),\n",
    "            \"label\": df[\"label\"]\n",
    "        })\n",
    "        PlotBox(num_df, x=\"label\", y=\"feature_word_num_log1p\", \n",
    "                xlabel=\"clicked\", ylabel=name+\" word num log1p\",\n",
    "                savefile=stat_save_dir+\"word_num_box_in_\"+name+\".png\"\n",
    "               )\n",
    "        del num_df\n",
    "    \n",
    "    del tmp\n",
    "    gc.collect()"
   ]
  },
  {
   "cell_type": "code",
   "execution_count": 70,
   "metadata": {
    "id": "92EDCCF0A0FD420D89D454C6B41D47BE",
    "scrolled": false
   },
   "outputs": [],
   "source": [
    "# 看组合feature的单词数目分布\n",
    "def AnalysisConcatWordNum(df, label_rel=True):\n",
    "    print(\"--->Word num in concat feature\")\n",
    "    tmp = df.apply(\n",
    "        lambda x : len(str(x[\"query\"]).split(\" \")) + len(str(x[\"title\"]).split(\" \")),\n",
    "        axis = 1\n",
    "    )\n",
    "    # print(tmp[:10])\n",
    "    feature_words_count = tmp.value_counts()\n",
    "    PlotBar(feature_words_count.index, \n",
    "            feature_words_count.values, \n",
    "            xlabel=\"Number of words in concat feature\",\n",
    "            ylabel=\"Number of occurrences\",\n",
    "            savefile=stat_save_dir+\"word_num_in_concat.png\",\n",
    "            vertical=True\n",
    "           )\n",
    "    \n",
    "    if label_rel:\n",
    "        tmp_df = pd.DataFrame({\n",
    "            \"concat_word_num_log1p\": np.log1p(tmp),\n",
    "            \"label\": df[\"label\"]\n",
    "        })\n",
    "        PlotBox(tmp_df, x=\"label\", y=\"concat_word_num_log1p\", \n",
    "                xlabel=\"clicked\", ylabel=\"concat word num log1p\",\n",
    "                savefile=stat_save_dir+\"word_num_box_in_concat.png\"\n",
    "               )\n",
    "        \n",
    "    # 统计字符级别的长度\n",
    "#     all_feature_df[\"concat_chars_count\"] = all_feature_df[\"features\"].apply(\n",
    "#         lambda x: len(str(x))\n",
    "#     )\n",
    "#     feature_chars_count = all_feature_df[\"concat_chars_count\"].value_counts()\n",
    "#     PlotBar(feature_chars_count.index, \n",
    "#             feature_chars_count.values, \n",
    "#             xlabel=\"Number of characters in concat\",\n",
    "#             ylabel=\"Number of occurrences\",\n",
    "#             vertical=True\n",
    "#            )\n",
    "    \n",
    "    del tmp, tmp_df\n",
    "    gc.collect()"
   ]
  },
  {
   "cell_type": "code",
   "execution_count": 47,
   "metadata": {},
   "outputs": [],
   "source": [
    "# # 看组合feature的单词数目分布\n",
    "# def AnalysisConcatWordNum(word_num, label):\n",
    "#     print(\"--->Word num in concat feature\")\n",
    "#     # print(tmp[:10])\n",
    "#     count = word_num.value_counts()\n",
    "#     PlotBar(count.index, \n",
    "#             count.values, \n",
    "#             xlabel=\"Number of words in concat feature\",\n",
    "#             ylabel=\"Number of occurrences\",\n",
    "#             savefile=stat_save_dir+\"word_num_in_concat.png\",\n",
    "#             vertical=True\n",
    "#            )\n",
    "    \n",
    "#     tmp_df = pd.DataFrame({\n",
    "#         \"concat_word_num_log1p\": np.log1p(word_num),\n",
    "#         \"label\": label\n",
    "#     })\n",
    "#     PlotBox(tmp_df, x=\"label\", y=\"concat_word_num_log1p\", \n",
    "#             xlabel=\"clicked\", ylabel=\"concat word num log1p\",\n",
    "#             savefile=stat_save_dir+\"word_num_box_in_concat.png\"\n",
    "#            )\n",
    "        \n",
    "#     # 统计字符级别的长度\n",
    "# #     all_feature_df[\"concat_chars_count\"] = all_feature_df[\"features\"].apply(\n",
    "# #         lambda x: len(str(x))\n",
    "# #     )\n",
    "# #     feature_chars_count = all_feature_df[\"concat_chars_count\"].value_counts()\n",
    "# #     PlotBar(feature_chars_count.index, \n",
    "# #             feature_chars_count.values, \n",
    "# #             xlabel=\"Number of characters in concat\",\n",
    "# #             ylabel=\"Number of occurrences\",\n",
    "# #             vertical=True\n",
    "# #            )\n",
    "    \n",
    "#     del tmp_df\n",
    "#     gc.collect()\n",
    "\n",
    "# def genConcatLen(df):\n",
    "#     tmp = df.apply(\n",
    "#         lambda x : len(str(x[\"query\"]).split(\" \")) + len(str(x[\"title\"]).split(\" \")),\n",
    "#         axis = 1\n",
    "#     )\n",
    "#     return tmp, df[\"label\"]"
   ]
  },
  {
   "cell_type": "code",
   "execution_count": 75,
   "metadata": {
    "id": "EC832B5B9FF745C38C10A93C33ADB7CF",
    "scrolled": false
   },
   "outputs": [],
   "source": [
    "# 分析两个特征UniGram关系\n",
    "def AnalysisGrams(df):\n",
    "    print(\"--->Common gram stat\")\n",
    "    df[\"common_unigram_count\"] = df.apply(\n",
    "        lambda x: len(set(str(x[\"query\"]).split()).intersection(\n",
    "            set(str(x[\"title\"]).split())\n",
    "        )),\n",
    "        axis=1\n",
    "    )\n",
    "    df[\"common_unigram_ratio\"] = df.apply(\n",
    "        lambda x: float(x[\"common_unigram_count\"]) / max(\n",
    "                len(\n",
    "                    set(str(x[\"query\"]).split()).union(\n",
    "                        set(str(x[\"title\"]).split())\n",
    "                    )\n",
    "                ), \n",
    "                1\n",
    "            )\n",
    "        ,\n",
    "        axis=1\n",
    "    )    \n",
    "    cnt_srs = df['common_unigram_count'].value_counts()\n",
    "    PlotBar(cnt_srs.index, \n",
    "            cnt_srs.values, \n",
    "            xlabel='Common unigram count',\n",
    "            ylabel=\"Number of occurrences\",\n",
    "            savefile=stat_save_dir+\"common_unigram_count.png\",\n",
    "            vertical=True\n",
    "           )\n",
    "    PlotBox(df, x=\"label\", y=\"common_unigram_count\", \n",
    "            xlabel=\"clicked\", ylabel=\"common unigram count\",\n",
    "            savefile=stat_save_dir+\"common_unigram_count_box.png\"\n",
    "           )\n",
    "    PlotBox(df, x=\"label\", y=\"common_unigram_ratio\", \n",
    "            xlabel=\"clicked\", ylabel=\"common unigram radio\",\n",
    "           savefile=stat_save_dir+\"common_unigram_radio_box.png\")\n",
    "    # print(df[:3])\n",
    "    df.drop(['common_unigram_count', 'common_unigram_ratio'], axis=1)\n",
    "    gc.collect()\n",
    "    "
   ]
  },
  {
   "cell_type": "code",
   "execution_count": 62,
   "metadata": {},
   "outputs": [],
   "source": [
    "# 分析两个feature的交集关系\n",
    "def AnalysisIntersect(df, test_df):\n",
    "    all_df = pd.concat([df[[\"query\", \"title\"]], \n",
    "                        test_df[[\"query\", \"title\"]]],\n",
    "                      axis=0).reset_index(drop=\"index\")\n",
    "    print(\"Shape concated train and test:\", all_df.shape)\n",
    "    \n",
    "    with Timer(\"Create dict\"):\n",
    "        from collections import defaultdict\n",
    "        q_dict = defaultdict(set)\n",
    "        for _ in range(all_df.shape[0]):\n",
    "            # 存储的是一个query对应哪几个title和\n",
    "            # 一个title对应哪几个query\n",
    "            q_dict[all_df[\"query\"][_]].add(all_df[\"title\"][_])\n",
    "            q_dict[all_df[\"title\"][_]].add(all_df[\"query\"][_])\n",
    "    \n",
    "    # 这里的频率是一个query会对应几个title\n",
    "    def q1Freq(row):\n",
    "        return len(q_dict[row['query']])\n",
    "    def q2Freq(row):\n",
    "        return len(q_dict[row['title']]) \n",
    "    def q1q2FreqIntersect(row):\n",
    "        return len(\n",
    "            set(q_dict[row['query']]\n",
    "        ).intersection(\n",
    "                set(q_dict[row['title']])\n",
    "        ))\n",
    "    \n",
    "    freq_df = pd.DataFrame(\n",
    "          {\n",
    "            \"query_freq\":df.apply(\n",
    "                q1Freq, axis=1, raw=True\n",
    "            ),\n",
    "            \"title_freq\":df.apply(\n",
    "                q2Freq, axis=1, raw=True\n",
    "            ),\n",
    "            \"query_title_intersect\":df.apply(\n",
    "                q1q2FreqIntersect, axis=1, raw=True\n",
    "            ),\n",
    "            \"label\": df[\"label\"]\n",
    "        }\n",
    "    )\n",
    "    \n",
    "    # 看交集出现的次数\n",
    "    cnt_srs = freq_df['query_title_intersect'].value_counts()\n",
    "    PlotBar(cnt_srs.index, \n",
    "            np.log1p(cnt_srs.values), \n",
    "            xlabel='Query-Title neighbor intersection count',\n",
    "            ylabel=\"Log of Number of Occurrences\",\n",
    "            vertical=True,\n",
    "            savefile=stat_save_dir+\"query_title_intersect_count.png\"\n",
    "           )\n",
    "    \n",
    "    # 看交集出现次数跟label的关系\n",
    "    grouped_df = freq_df.groupby('query_title_intersect')['label'].aggregate(np.mean).reset_index()\n",
    "    PlotPoint(\n",
    "        grouped_df[\"query_title_intersect\"].values,\n",
    "        grouped_df[\"label\"].values,\n",
    "        ylabel=\"Mean clicked\",\n",
    "        xlabel=\"Q1-Q2 neighbor intersection count\",\n",
    "        vertical=True,\n",
    "        savefile=stat_save_dir+\"query_title_intersect_impact_label.png\"\n",
    "    )\n",
    "    \n",
    "    # 看每个query的title次数\n",
    "    cnt_srs = freq_df['query_freq'].value_counts()\n",
    "    PlotBar(cnt_srs.index, \n",
    "            cnt_srs.values, \n",
    "            xlabel='Query Frequency',\n",
    "            ylabel=\"Number of Occurrences\",\n",
    "            vertical=True,\n",
    "            savefile=stat_save_dir+\"query_frequency_count.png\"\n",
    "           )\n",
    "    \n",
    "    # 看每个title的query次数\n",
    "    cnt_srs = freq_df['title_freq'].value_counts()\n",
    "    PlotBar(cnt_srs.index, \n",
    "            cnt_srs.values, \n",
    "            xlabel='Title Frequency',\n",
    "            ylabel=\"Number of Occurrences\",\n",
    "            vertical=True,\n",
    "            savefile=stat_save_dir+\"title_frequency_count.png\"\n",
    "           )\n",
    "    \n",
    "    # 看query出现频率对于label的影响\n",
    "    grouped_df = freq_df.groupby('query_freq')['label'].aggregate(np.mean).reset_index()\n",
    "    PlotPoint(\n",
    "        grouped_df[\"query_freq\"].values,\n",
    "        grouped_df[\"label\"].values,\n",
    "        ylabel=\"Mean clicked\",\n",
    "        xlabel=\"Q1 Frequency\",\n",
    "        vertical=True,\n",
    "        savefile=stat_save_dir+\"query_impact_label.png\"\n",
    "    )\n",
    "    \n",
    "    # 数据透视表: https://blog.csdn.net/qq_36495431/article/details/81123240\n",
    "    # 看query频率、title频率与label的关系\n",
    "    pvt_df = freq_df.pivot_table(index=\"query_freq\", \n",
    "                                 columns=\"title_freq\", \n",
    "                                 values=\"label\")\n",
    "    plt.figure(figsize=(12,12))\n",
    "    sns.heatmap(pvt_df)\n",
    "    plt.title(\"Mean clicked value distribution across query and title frequency\")\n",
    "    plt.savefig(stat_save_dir+\"query_title_impact_label.png\")\n",
    "    plt.show()\n",
    "    \n",
    "    # 三者关系\n",
    "    cols_to_use = ['query_title_intersect', 'query_freq', 'title_freq']\n",
    "    tmp_df = freq_df[cols_to_use]\n",
    "    corrmat = tmp_df.corr(method='spearman')\n",
    "    f, ax = plt.subplots(figsize=(8, 8))\n",
    "    sns.heatmap(corrmat, vmax=1., square=True)\n",
    "    plt.title(\"Leaky variables correlation map\", fontsize=15)\n",
    "    plt.savefig(stat_save_dir+\"correlation.png\")\n",
    "    plt.show()\n",
    "    \n",
    "    del all_df, q_dict, freq_df, grouped_df, pvt_df, tmp_df\n",
    "    gc.collect()"
   ]
  },
  {
   "cell_type": "markdown",
   "metadata": {
    "id": "514F810A6F6F45E0B21C10F0AC348711",
    "mdEditEnable": false
   },
   "source": [
    "## 分析"
   ]
  },
  {
   "cell_type": "code",
   "execution_count": 27,
   "metadata": {
    "id": "19E9853F779343A6ABB00FC4706BD935",
    "scrolled": false
   },
   "outputs": [],
   "source": [
    "stat_save_dir = \"./stats/\""
   ]
  },
  {
   "cell_type": "code",
   "execution_count": 76,
   "metadata": {
    "id": "5B1CFCE33E514B0094C6A570395CF115",
    "scrolled": false
   },
   "outputs": [
    {
     "name": "stdout",
     "output_type": "stream",
     "text": [
      "Random sample...\n",
      "Finished sample.\n",
      "--->Common gram stat\n"
     ]
    },
    {
     "data": {
      "image/png": "[encoded data removed]",
      "text/plain": [
       "<Figure size 576x288 with 1 Axes>"
      ]
     },
     "metadata": {},
     "output_type": "display_data"
    },
    {
     "data": {
      "image/png": "[encoded data removed]",
      "text/plain": [
       "<Figure size 864x432 with 1 Axes>"
      ]
     },
     "metadata": {},
     "output_type": "display_data"
    },
    {
     "data": {
      "image/png": "[encoded data removed]",
      "text/plain": [
       "<Figure size 864x432 with 1 Axes>"
      ]
     },
     "metadata": {},
     "output_type": "display_data"
    }
   ],
   "source": [
    "# 原始数据集上的分析\n",
    "def AnalysisDataset(trainfile, testfile,\n",
    "                     train_names=ori_train_names, \n",
    "                     test_names=ori_test_names,\n",
    "                     chunk_size=5000000):\n",
    "#     chunks = []\n",
    "#     ap = lambda x: chunks.append(x)\n",
    "#     ProcessChunk(trainfile, ap, train_names, chunk_size)\n",
    "#     df = pd.concat(chunks, ignore_index=True)\n",
    "    test_df = ReadCSV(testfile, names=test_names, iterator=False)\n",
    "    df = RandomSample(trainfile, 0.2, names=ori_train_names, chunk_size=chunk_size)\n",
    "    \n",
    "#     # 可以直接跑出来\n",
    "    # AnalysisLabel(df)\n",
    "#     AnalysisFeatureWordNum(df, name=\"query\")\n",
    "#     AnalysisFeatureWordNum(df, name=\"title\")\n",
    "    \n",
    "    # concatLen, label = [], []\n",
    "    # def ap(x):\n",
    "    #     tmp = genConcatLen(x)\n",
    "    #     concatLen.append0(tmp[0])\n",
    "    #     label.append(tmp[1])\n",
    "    # ProcessChunk(trainfile, ap, train_names, chunk_size)\n",
    "    # concatLen = pd.concat(concatLen)\n",
    "    # label = pd.concat(label)\n",
    "    # AnalysisConcatWordNum(concatLen, label)\n",
    "    \n",
    "#     AnalysisConcatWordNum(df)\n",
    "    AnalysisGrams(df)\n",
    "    \n",
    "    # 混合关联\n",
    "    # AnalysisIntersect(df, test_df)\n",
    "\n",
    "if debug:\n",
    "    chunk_size = 5000\n",
    "else:\n",
    "    chunk_size = 10000000\n",
    "    \n",
    "AnalysisDataset(train_data_file, test_data_file, chunk_size=chunk_size)"
   ]
  }
 ],
 "metadata": {
  "kernelspec": {
   "display_name": "Python 3",
   "language": "python",
   "name": "python3"
  },
  "language_info": {
   "codemirror_mode": {
    "name": "ipython",
    "version": 3
   },
   "file_extension": ".py",
   "mimetype": "text/x-python",
   "name": "python",
   "nbconvert_exporter": "python",
   "pygments_lexer": "ipython3",
   "version": "3.6.5"
  }
 },
 "nbformat": 4,
 "nbformat_minor": 2
}
