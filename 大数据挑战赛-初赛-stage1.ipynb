{
 "cells": [
  {
   "cell_type": "markdown",
   "metadata": {},
   "source": [
    "## 包引入与变量准备"
   ]
  },
  {
   "cell_type": "code",
   "execution_count": 1,
   "metadata": {},
   "outputs": [],
   "source": [
    "import sys\n",
    "sys.path.append(\"./global\")\n",
    "from helper import Timer, ProcessForTrainWord2vec, ProcessForTrainFastText\n",
    "import csv"
   ]
  },
  {
   "cell_type": "code",
   "execution_count": 2,
   "metadata": {},
   "outputs": [],
   "source": [
    "state1_dir = \"./stage1/\"\n",
    "stage1_code_dir = state1_dir + \"code/\"\n",
    "stage1_input_dir = state1_dir + \"input/\"\n",
    "stage1_output_dir = state1_dir + \"output/\"\n",
    "train_file_data = stage1_input_dir + \"train_01_0607.csv\""
   ]
  },
  {
   "cell_type": "markdown",
   "metadata": {},
   "source": [
    "## 随机采样数据\n",
    "\n",
    "1. 随机从一亿数据中采样1000万条数据来训练\n",
    "2. 移动测试数据集到input目录"
   ]
  },
  {
   "cell_type": "code",
   "execution_count": 3,
   "metadata": {},
   "outputs": [],
   "source": [
    "# online: \"/home/kesci/input/bytedance/first-round/train.csv\"\n",
    "# offline: \"../../data/train.csv\"\n",
    "# ! cd stage1/code; python ./build_random_samples.py -f \"../../data/train.csv\" -r .1 -d ../input/ -s \"train_01_0607.csv\""
   ]
  },
  {
   "cell_type": "code",
   "execution_count": 4,
   "metadata": {},
   "outputs": [],
   "source": [
    "# online: \"/home/kesci/input/bytedance/first-round/test.csv\"\n",
    "# offline: \"../../data/test.csv\"\n",
    "# !cd stage1/code; cp \"../../data/test.csv\" \"../input/test_copy.csv\""
   ]
  },
  {
   "cell_type": "markdown",
   "metadata": {},
   "source": [
    "## 生成词向量"
   ]
  },
  {
   "cell_type": "markdown",
   "metadata": {},
   "source": [
    "### Word2Vec\n",
    "\n",
    "1. 生成Word2vec可直接训练的sentences文件\n",
    "2. 训练word2vec"
   ]
  },
  {
   "cell_type": "code",
   "execution_count": 5,
   "metadata": {},
   "outputs": [],
   "source": [
    "# ProcessForTrainWord2vec(train_file_data, stage1_input_dir+\"word2vec_sentences.txt\")"
   ]
  },
  {
   "cell_type": "code",
   "execution_count": 6,
   "metadata": {},
   "outputs": [
    {
     "name": "stdout",
     "output_type": "stream",
     "text": [
      "----->Started 'Build word2vec' block...\n",
      "/Users/niudong/workon_home/py3/lib/python3.6/site-packages/smart_open/smart_open_lib.py:398: UserWarning: This function is deprecated, use smart_open.open instead. See the migration notes for details: https://github.com/RaRe-Technologies/smart_open/blob/master/README.rst#migrating-to-the-new-open-function\n",
      "  'See the migration notes for details: %s' % _MIGRATION_NOTES_URL\n",
      "/Users/niudong/workon_home/py3/lib/python3.6/site-packages/smart_open/smart_open_lib.py:398: UserWarning: This function is deprecated, use smart_open.open instead. See the migration notes for details: https://github.com/RaRe-Technologies/smart_open/blob/master/README.rst#migrating-to-the-new-open-function\n",
      "  'See the migration notes for details: %s' % _MIGRATION_NOTES_URL\n",
      "----->Finished 'Build word2vec' block, time used: 0.19s.\n"
     ]
    }
   ],
   "source": [
    "!cd stage1/code; python build_word2vec.py -f \"../input/word2vec_sentences.txt\" -d \"../output/\" -m \"word2vec.model\" -v \"word2vec.kv\"\n"
   ]
  },
  {
   "cell_type": "markdown",
   "metadata": {},
   "source": [
    "### FastText\n",
    "\n",
    "FastText的使用：https://blog.csdn.net/ymaini/article/details/81489599\n",
    "\n",
    "1. 生成适合fastText训练的文本格式"
   ]
  },
  {
   "cell_type": "code",
   "execution_count": 7,
   "metadata": {},
   "outputs": [
    {
     "name": "stdout",
     "output_type": "stream",
     "text": [
      "----->Started 'Process csv to content for fastText train' block...\n",
      "----->Finished 'Process csv to content for fastText train' block, time used: 0.01s.\n"
     ]
    }
   ],
   "source": [
    "ProcessForTrainFastText(train_file_data, stage1_input_dir+\"fastText_labeled_content.txt\", add_label=True)"
   ]
  },
  {
   "cell_type": "markdown",
   "metadata": {},
   "source": [
    "## 特征抽取"
   ]
  },
  {
   "cell_type": "markdown",
   "metadata": {},
   "source": [
    "### Text Mining Featues"
   ]
  },
  {
   "cell_type": "code",
   "execution_count": 13,
   "metadata": {},
   "outputs": [
    {
     "name": "stdout",
     "output_type": "stream",
     "text": [
      "Reading chunk...\n",
      "Reading chunk...\n",
      "Finished process.\n",
      "Use time: 0:00:01.350079. Save file to ../output/v1_feature_text.csv\n"
     ]
    }
   ],
   "source": [
    "! cd stage1/code; python feature_text.py -f \"../input/train_01_0607.csv\" -p \"v1\" -d \"../output\" -b \"true\""
   ]
  },
  {
   "cell_type": "code",
   "execution_count": 18,
   "metadata": {},
   "outputs": [
    {
     "name": "stdout",
     "output_type": "stream",
     "text": [
      "/Users/niudong/workon_home/py3/lib/python3.6/site-packages/smart_open/smart_open_lib.py:398: UserWarning: This function is deprecated, use smart_open.open instead. See the migration notes for details: https://github.com/RaRe-Technologies/smart_open/blob/master/README.rst#migrating-to-the-new-open-function\n",
      "  'See the migration notes for details: %s' % _MIGRATION_NOTES_URL\n",
      "/Users/niudong/workon_home/py3/lib/python3.6/site-packages/smart_open/smart_open_lib.py:398: UserWarning: This function is deprecated, use smart_open.open instead. See the migration notes for details: https://github.com/RaRe-Technologies/smart_open/blob/master/README.rst#migrating-to-the-new-open-function\n",
      "  'See the migration notes for details: %s' % _MIGRATION_NOTES_URL\n",
      "Reading chunk...\n",
      "/Users/niudong/projects/bigDataContest-bytedance/stage1/code/utils/dist_utils.py:43: RuntimeWarning: invalid value encountered in double_scalars\n",
      "  return np.nan_to_num(np.dot(a, b)/s)\n",
      "/Users/niudong/workon_home/py3/lib/python3.6/site-packages/scipy/spatial/distance.py:1138: RuntimeWarning: invalid value encountered in double_scalars\n",
      "  return l1_diff.sum() / l1_sum.sum()\n",
      "Reading chunk...\n",
      "Finished process.\n",
      "Use time: 0:00:06.673121. Save file to ../output/v1_feature_embed.csv\n"
     ]
    }
   ],
   "source": [
    "! cd stage1/code; python feature_embed.py -f \"../input/train_01_0607.csv\" -p \"v1\" -d \"../output\" -b \"true\" -e \"word2vec\""
   ]
  }
 ],
 "metadata": {
  "kernelspec": {
   "display_name": "Python 3",
   "language": "python",
   "name": "python3"
  },
  "language_info": {
   "codemirror_mode": {
    "name": "ipython",
    "version": 3
   },
   "file_extension": ".py",
   "mimetype": "text/x-python",
   "name": "python",
   "nbconvert_exporter": "python",
   "pygments_lexer": "ipython3",
   "version": "3.6.5"
  }
 },
 "nbformat": 4,
 "nbformat_minor": 2
}
