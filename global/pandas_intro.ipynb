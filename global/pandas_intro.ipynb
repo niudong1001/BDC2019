{
 "cells": [
  {
   "cell_type": "code",
   "execution_count": 2,
   "metadata": {},
   "outputs": [],
   "source": [
    "import numpy as np\n",
    "import pandas as pd\n",
    "\n",
    "def pr(a):\n",
    "    print(a)\n",
    "    print()"
   ]
  },
  {
   "cell_type": "code",
   "execution_count": 2,
   "metadata": {},
   "outputs": [
    {
     "name": "stdout",
     "output_type": "stream",
     "text": [
      "0    1.0\n",
      "1    3.0\n",
      "2    5.0\n",
      "3    NaN\n",
      "4    6.0\n",
      "5    8.0\n",
      "dtype: float64\n",
      "\n",
      "DatetimeIndex(['2019-05-26', '2019-05-27', '2019-05-28', '2019-05-29',\n",
      "               '2019-05-30', '2019-05-31'],\n",
      "              dtype='datetime64[ns]', freq='D')\n",
      "\n",
      "                   A         B         C         D\n",
      "2019-05-26 -0.253107  0.738846 -0.092190 -0.028421\n",
      "2019-05-27  0.251259  1.318807 -0.044867  0.804574\n",
      "2019-05-28 -0.259603 -0.313546  0.741642 -1.085830\n",
      "2019-05-29  0.934213  0.526211  0.316157 -2.051314\n",
      "2019-05-30  0.826727  0.841595 -0.362280 -0.022254\n",
      "2019-05-31  0.477662 -0.439313 -0.849219 -2.099299\n",
      "\n",
      "   A  B    C          D\n",
      "0  1  0  foo 2019-05-26\n",
      "1  1  1  foo 2019-05-26\n",
      "2  1  2  foo 2019-05-26\n",
      "3  1  3  foo 2019-05-26\n",
      "\n"
     ]
    }
   ],
   "source": [
    "s = pd.Series([1, 3, 5, np.nan, 6, 8])\n",
    "pr(s)\n",
    "dates = pd.date_range(\"20190526\", periods=6)\n",
    "pr(dates)\n",
    "df = pd.DataFrame(np.random.randn(6, 4), \n",
    "                  index=dates, \n",
    "                  columns=[\"A\", \"B\", \"C\", \"D\"])\n",
    "pr(df)\n",
    "df2 = pd.DataFrame({\n",
    "    \"A\": 1,\n",
    "    \"B\": range(4),\n",
    "    \"C\": \"foo\",\n",
    "    \"D\": pd.Timestamp(\"20190526\")\n",
    "})\n",
    "pr(df2)"
   ]
  },
  {
   "cell_type": "code",
   "execution_count": 6,
   "metadata": {},
   "outputs": [
    {
     "name": "stdout",
     "output_type": "stream",
     "text": [
      "A             int64\n",
      "B             int64\n",
      "C            object\n",
      "D    datetime64[ns]\n",
      "dtype: object\n",
      "\n",
      "                   A         B         C         D\n",
      "2019-05-26 -0.253107  0.738846 -0.092190 -0.028421\n",
      "2019-05-27  0.251259  1.318807 -0.044867  0.804574\n",
      "\n",
      "                   A         B         C         D\n",
      "2019-05-30  0.826727  0.841595 -0.362280 -0.022254\n",
      "2019-05-31  0.477662 -0.439313 -0.849219 -2.099299\n",
      "\n",
      "DatetimeIndex(['2019-05-26', '2019-05-27', '2019-05-28', '2019-05-29',\n",
      "               '2019-05-30', '2019-05-31'],\n",
      "              dtype='datetime64[ns]', freq='D')\n",
      "\n",
      "Index(['A', 'B', 'C', 'D'], dtype='object')\n",
      "\n"
     ]
    }
   ],
   "source": [
    "pr(df2.dtypes)\n",
    "pr(df.head(2))\n",
    "pr(df.tail(2))\n",
    "pr(df.index)\n",
    "pr(df.columns)"
   ]
  },
  {
   "cell_type": "code",
   "execution_count": 8,
   "metadata": {},
   "outputs": [
    {
     "name": "stdout",
     "output_type": "stream",
     "text": [
      "[[1 0 'foo' Timestamp('2019-05-26 00:00:00')]\n",
      " [1 1 'foo' Timestamp('2019-05-26 00:00:00')]\n",
      " [1 2 'foo' Timestamp('2019-05-26 00:00:00')]\n",
      " [1 3 'foo' Timestamp('2019-05-26 00:00:00')]]\n",
      "\n",
      "              A         B         C         D\n",
      "count  6.000000  6.000000  6.000000  6.000000\n",
      "mean   0.329525  0.445433 -0.048459 -0.747091\n",
      "std    0.515259  0.688646  0.547509  1.191113\n",
      "min   -0.259603 -0.439313 -0.849219 -2.099299\n",
      "25%   -0.127015 -0.103607 -0.294758 -1.809943\n",
      "50%    0.364461  0.632529 -0.068529 -0.557125\n",
      "75%    0.739461  0.815908  0.225901 -0.023796\n",
      "max    0.934213  1.318807  0.741642  0.804574\n",
      "\n",
      "   2019-05-26  2019-05-27  2019-05-28  2019-05-29  2019-05-30  2019-05-31\n",
      "A   -0.253107    0.251259   -0.259603    0.934213    0.826727    0.477662\n",
      "B    0.738846    1.318807   -0.313546    0.526211    0.841595   -0.439313\n",
      "C   -0.092190   -0.044867    0.741642    0.316157   -0.362280   -0.849219\n",
      "D   -0.028421    0.804574   -1.085830   -2.051314   -0.022254   -2.099299\n",
      "\n"
     ]
    }
   ],
   "source": [
    "# NumPy arrays have one dtype for the entire array, \n",
    "# while pandas DataFrames have one dtype per column\n",
    "# DataFrame.to_numpy() does not include the index or \n",
    "# column labels in the output.\n",
    "pr(df2.to_numpy())\n",
    "pr(df.describe())\n",
    "pr(df.T)"
   ]
  },
  {
   "cell_type": "code",
   "execution_count": 17,
   "metadata": {},
   "outputs": [
    {
     "name": "stdout",
     "output_type": "stream",
     "text": [
      "                   A         B         C         D\n",
      "2019-05-26 -0.253107  0.738846 -0.092190 -0.028421\n",
      "2019-05-27  0.251259  1.318807 -0.044867  0.804574\n",
      "2019-05-28 -0.259603 -0.313546  0.741642 -1.085830\n",
      "2019-05-29  0.934213  0.526211  0.316157 -2.051314\n",
      "2019-05-30  0.826727  0.841595 -0.362280 -0.022254\n",
      "2019-05-31  0.477662 -0.439313 -0.849219 -2.099299\n",
      "\n",
      "                   A         B         C         D\n",
      "2019-05-31  0.477662 -0.439313 -0.849219 -2.099299\n",
      "2019-05-30  0.826727  0.841595 -0.362280 -0.022254\n",
      "2019-05-29  0.934213  0.526211  0.316157 -2.051314\n",
      "2019-05-28 -0.259603 -0.313546  0.741642 -1.085830\n",
      "2019-05-27  0.251259  1.318807 -0.044867  0.804574\n",
      "2019-05-26 -0.253107  0.738846 -0.092190 -0.028421\n",
      "\n",
      "                   A         B         C         D\n",
      "2019-05-31  0.477662 -0.439313 -0.849219 -2.099299\n",
      "2019-05-28 -0.259603 -0.313546  0.741642 -1.085830\n",
      "2019-05-29  0.934213  0.526211  0.316157 -2.051314\n",
      "2019-05-26 -0.253107  0.738846 -0.092190 -0.028421\n",
      "2019-05-30  0.826727  0.841595 -0.362280 -0.022254\n",
      "2019-05-27  0.251259  1.318807 -0.044867  0.804574\n",
      "\n"
     ]
    }
   ],
   "source": [
    "# 排序\n",
    "pr(df)\n",
    "# axis=0代表在行上排序，axis=1代表在列上排序\n",
    "pr(df.sort_index(axis=0, ascending=False))\n",
    "pr(df.sort_values(by=\"B\"))"
   ]
  },
  {
   "cell_type": "code",
   "execution_count": 22,
   "metadata": {},
   "outputs": [
    {
     "name": "stdout",
     "output_type": "stream",
     "text": [
      "2019-05-26   -0.253107\n",
      "2019-05-27    0.251259\n",
      "2019-05-28   -0.259603\n",
      "2019-05-29    0.934213\n",
      "2019-05-30    0.826727\n",
      "2019-05-31    0.477662\n",
      "Freq: D, Name: A, dtype: float64\n",
      "\n",
      "                   A         B         C         D\n",
      "2019-05-26 -0.253107  0.738846 -0.092190 -0.028421\n",
      "2019-05-27  0.251259  1.318807 -0.044867  0.804574\n",
      "2019-05-28 -0.259603 -0.313546  0.741642 -1.085830\n",
      "\n",
      "                   A         B         C         D\n",
      "2019-05-26 -0.253107  0.738846 -0.092190 -0.028421\n",
      "2019-05-27  0.251259  1.318807 -0.044867  0.804574\n",
      "2019-05-28 -0.259603 -0.313546  0.741642 -1.085830\n",
      "2019-05-29  0.934213  0.526211  0.316157 -2.051314\n",
      "\n"
     ]
    }
   ],
   "source": [
    "# 基本的select\n",
    "pr(df[\"A\"])\n",
    "pr(df[0:3])\n",
    "pr(df['2019-05-26':'2019-05-29'])"
   ]
  },
  {
   "cell_type": "code",
   "execution_count": 33,
   "metadata": {},
   "outputs": [
    {
     "name": "stdout",
     "output_type": "stream",
     "text": [
      "A   -0.253107\n",
      "B    0.738846\n",
      "C   -0.092190\n",
      "D   -0.028421\n",
      "Name: 2019-05-26 00:00:00, dtype: float64\n",
      "\n",
      "                   A         B\n",
      "2019-05-26 -0.253107  0.738846\n",
      "2019-05-27  0.251259  1.318807\n",
      "2019-05-28 -0.259603 -0.313546\n",
      "2019-05-29  0.934213  0.526211\n",
      "2019-05-30  0.826727  0.841595\n",
      "2019-05-31  0.477662 -0.439313\n",
      "\n",
      "                   A         B\n",
      "2019-05-26 -0.253107  0.738846\n",
      "2019-05-27  0.251259  1.318807\n",
      "2019-05-28 -0.259603 -0.313546\n",
      "2019-05-29  0.934213  0.526211\n",
      "\n",
      "-0.25310708217191197\n",
      "\n"
     ]
    }
   ],
   "source": [
    "# 使用Label选择\n",
    "pr(df.loc[dates[0]])\n",
    "pr(df.loc[:, [\"A\", \"B\"]])\n",
    "# both endpoints are included\n",
    "pr(df.loc['2019-05-26':'2019-05-29', [\"A\", \"B\"]])\n",
    "# df.at can only access a single value at a time.\n",
    "# df.loc can select multiple rows and/or columns.\n",
    "pr(df.at[dates[0], \"A\"])"
   ]
  },
  {
   "cell_type": "code",
   "execution_count": 38,
   "metadata": {},
   "outputs": [
    {
     "name": "stdout",
     "output_type": "stream",
     "text": [
      "A    0.934213\n",
      "B    0.526211\n",
      "C    0.316157\n",
      "D   -2.051314\n",
      "Name: 2019-05-29 00:00:00, dtype: float64\n",
      "\n",
      "                   A         B\n",
      "2019-05-29  0.934213  0.526211\n",
      "2019-05-30  0.826727  0.841595\n",
      "\n",
      "                   B         C\n",
      "2019-05-26  0.738846 -0.092190\n",
      "2019-05-28 -0.313546  0.741642\n",
      "2019-05-29  0.526211  0.316157\n",
      "\n",
      "1.318806761593596\n",
      "\n"
     ]
    }
   ],
   "source": [
    "# 使用Position选择\n",
    "pr(df.iloc[3])\n",
    "pr(df.iloc[3:5, 0:2])\n",
    "pr(df.iloc[[0, 2, 3], [1, 2]])\n",
    "pr(df.iat[1, 1]) # 与df.iloc[1, 1]效果一样"
   ]
  },
  {
   "cell_type": "code",
   "execution_count": 44,
   "metadata": {},
   "outputs": [
    {
     "name": "stdout",
     "output_type": "stream",
     "text": [
      "                   A         B         C         D\n",
      "2019-05-27  0.251259  1.318807 -0.044867  0.804574\n",
      "2019-05-29  0.934213  0.526211  0.316157 -2.051314\n",
      "2019-05-30  0.826727  0.841595 -0.362280 -0.022254\n",
      "2019-05-31  0.477662 -0.439313 -0.849219 -2.099299\n",
      "\n",
      "                   A         B         C         D  E\n",
      "2019-05-26 -0.253107  0.738846 -0.092190 -0.028421  a\n",
      "2019-05-27  0.251259  1.318807 -0.044867  0.804574  b\n",
      "2019-05-28 -0.259603 -0.313546  0.741642 -1.085830  c\n",
      "2019-05-29  0.934213  0.526211  0.316157 -2.051314  d\n",
      "2019-05-30  0.826727  0.841595 -0.362280 -0.022254  e\n",
      "2019-05-31  0.477662 -0.439313 -0.849219 -2.099299  a\n",
      "\n",
      "                   A         B         C         D  E\n",
      "2019-05-26 -0.253107  0.738846 -0.092190 -0.028421  a\n",
      "2019-05-27  0.251259  1.318807 -0.044867  0.804574  b\n",
      "2019-05-31  0.477662 -0.439313 -0.849219 -2.099299  a\n",
      "\n"
     ]
    }
   ],
   "source": [
    "# Boolean Indexing\n",
    "pr(df[df.A>0])\n",
    "df3 = df.copy()\n",
    "df3[\"E\"] = [\"a\", \"b\", \"c\", \"d\", \"e\", \"a\"]\n",
    "pr(df3)\n",
    "pr(df3[df3[\"E\"].isin([\"a\", \"b\"])])"
   ]
  },
  {
   "cell_type": "code",
   "execution_count": 57,
   "metadata": {},
   "outputs": [
    {
     "name": "stdout",
     "output_type": "stream",
     "text": [
      "                     A         B         C  D  F\n",
      "2019-05-26  100.000000  0.738846 -0.092190  5  1\n",
      "2019-05-27    0.251259  1.318807 -0.044867  5  2\n",
      "2019-05-28   -0.259603 -0.313546  0.741642  5  3\n",
      "2019-05-29    0.934213  0.526211  0.316157  5  4\n",
      "2019-05-30    0.826727  0.841595 -0.362280  5  5\n",
      "2019-05-31    0.477662 -0.439313 -0.849219  5  6\n",
      "\n",
      "                     A         B         C  D  F\n",
      "2019-05-26  100.000000  0.738846 -0.092190  5  1\n",
      "2019-05-27    0.251259  1.318807 -0.044867  5  2\n",
      "2019-05-28   -0.259603 -0.313546  0.741642  5  3\n",
      "2019-05-29    0.934213  0.526211  0.316157  5  4\n",
      "2019-05-30    0.826727  0.841595 -0.362280  5  5\n",
      "2019-05-31    0.477662 -0.439313 -0.849219  5  6\n",
      "\n"
     ]
    }
   ],
   "source": [
    "# Setting Value\n",
    "pr(df)\n",
    "df4 = df.copy()\n",
    "df4[\"F\"] = pd.Series([1, 2, 3, 4, 5, 6], \n",
    "                    index=pd.date_range('2019-05-26', \n",
    "                                        periods=6))\n",
    "df4.at[\"2019-05-26\", \"A\"] = 100\n",
    "df4.loc[:, \"D\"] = np.array([5] * len(df))\n",
    "pr(df4)"
   ]
  },
  {
   "cell_type": "code",
   "execution_count": 63,
   "metadata": {},
   "outputs": [
    {
     "name": "stdout",
     "output_type": "stream",
     "text": [
      "                     A         B         C  D  F    E\n",
      "2019-05-26  100.000000  0.738846 -0.092190  5  1  1.0\n",
      "2019-05-27    0.251259  1.318807 -0.044867  5  2  1.0\n",
      "2019-05-28   -0.259603 -0.313546  0.741642  5  3  NaN\n",
      "2019-05-29    0.934213  0.526211  0.316157  5  4  NaN\n",
      "\n",
      "                     A         B         C  D  F    E\n",
      "2019-05-26  100.000000  0.738846 -0.092190  5  1  1.0\n",
      "2019-05-27    0.251259  1.318807 -0.044867  5  2  1.0\n",
      "\n",
      "                     A         B         C  D  F    E\n",
      "2019-05-26  100.000000  0.738846 -0.092190  5  1  1.0\n",
      "2019-05-27    0.251259  1.318807 -0.044867  5  2  1.0\n",
      "2019-05-28   -0.259603 -0.313546  0.741642  5  3  5.0\n",
      "2019-05-29    0.934213  0.526211  0.316157  5  4  5.0\n",
      "\n",
      "                A      B      C      D      F      E\n",
      "2019-05-26  False  False  False  False  False  False\n",
      "2019-05-27  False  False  False  False  False  False\n",
      "2019-05-28  False  False  False  False  False   True\n",
      "2019-05-29  False  False  False  False  False   True\n",
      "\n"
     ]
    }
   ],
   "source": [
    "# 缺失值处理\n",
    "df5 = df.reindex(index=dates[0:4], \n",
    "                 columns=list(df.columns) + [\"E\"])\n",
    "df5.loc[dates[0]:dates[1], \"E\"] = 1\n",
    "pr(df5)\n",
    "pr(df5.dropna(how=\"any\"))\n",
    "pr(df5.fillna(value=5))\n",
    "pr(pd.isna(df5))"
   ]
  },
  {
   "cell_type": "code",
   "execution_count": 68,
   "metadata": {},
   "outputs": [
    {
     "name": "stdout",
     "output_type": "stream",
     "text": [
      "                     A         B         C  D  F\n",
      "2019-05-26  100.000000  0.738846 -0.092190  5  1\n",
      "2019-05-27    0.251259  1.318807 -0.044867  5  2\n",
      "2019-05-28   -0.259603 -0.313546  0.741642  5  3\n",
      "2019-05-29    0.934213  0.526211  0.316157  5  4\n",
      "2019-05-30    0.826727  0.841595 -0.362280  5  5\n",
      "2019-05-31    0.477662 -0.439313 -0.849219  5  6\n",
      "\n",
      "A    17.038377\n",
      "B     0.445433\n",
      "C    -0.048459\n",
      "D     5.000000\n",
      "F     3.500000\n",
      "dtype: float64\n",
      "\n",
      "2019-05-26    21.329331\n",
      "2019-05-27     1.705040\n",
      "2019-05-28     1.633699\n",
      "2019-05-29     2.155316\n",
      "2019-05-30     2.261209\n",
      "2019-05-31     2.037826\n",
      "Freq: D, dtype: float64\n",
      "\n",
      "2019-05-26    NaN\n",
      "2019-05-27    NaN\n",
      "2019-05-28    1.0\n",
      "2019-05-29    3.0\n",
      "2019-05-30    5.0\n",
      "2019-05-31    NaN\n",
      "Freq: D, dtype: float64\n",
      "\n",
      "                   A         B         C    D    F\n",
      "2019-05-26       NaN       NaN       NaN  NaN  NaN\n",
      "2019-05-27       NaN       NaN       NaN  NaN  NaN\n",
      "2019-05-28 -1.259603 -1.313546 -0.258358  4.0  2.0\n",
      "2019-05-29 -2.065787 -2.473789 -2.683843  2.0  1.0\n",
      "2019-05-30 -4.173273 -4.158405 -5.362280  0.0  0.0\n",
      "2019-05-31       NaN       NaN       NaN  NaN  NaN\n",
      "\n"
     ]
    }
   ],
   "source": [
    "# 相关操作\n",
    "pr(df)\n",
    "pr(df.mean())\n",
    "pr(df.mean(1))\n",
    "s = pd.Series([1, 3, 5, np.nan, 6, 8], index=dates).shift(2)\n",
    "pr(s)\n",
    "pr(df.sub(s, axis=\"index\"))"
   ]
  },
  {
   "cell_type": "code",
   "execution_count": 73,
   "metadata": {},
   "outputs": [
    {
     "name": "stdout",
     "output_type": "stream",
     "text": [
      "                     A         B         C  D  F\n",
      "2019-05-26  100.000000  0.738846 -0.092190  5  1\n",
      "2019-05-27    0.251259  1.318807 -0.044867  5  2\n",
      "2019-05-28   -0.259603 -0.313546  0.741642  5  3\n",
      "2019-05-29    0.934213  0.526211  0.316157  5  4\n",
      "2019-05-30    0.826727  0.841595 -0.362280  5  5\n",
      "2019-05-31    0.477662 -0.439313 -0.849219  5  6\n",
      "\n",
      "                     A         B         C   D   F\n",
      "2019-05-26  100.000000  0.738846 -0.092190   5   1\n",
      "2019-05-27  100.251259  2.057653 -0.137057  10   3\n",
      "2019-05-28   99.991657  1.744107  0.604585  15   6\n",
      "2019-05-29  100.925870  2.270318  0.920742  20  10\n",
      "2019-05-30  101.752597  3.111913  0.558462  25  15\n",
      "2019-05-31  102.230260  2.672601 -0.290757  30  21\n",
      "\n",
      "A    100.259603\n",
      "B      1.758119\n",
      "C      1.590861\n",
      "D      0.000000\n",
      "F      5.000000\n",
      "dtype: float64\n",
      "\n"
     ]
    }
   ],
   "source": [
    "# 将函数应用到数据\n",
    "pr(df)\n",
    "pr(df.apply(np.cumsum))\n",
    "pr(df.apply(lambda x: x.max() - x.min()))"
   ]
  },
  {
   "cell_type": "code",
   "execution_count": 81,
   "metadata": {},
   "outputs": [
    {
     "name": "stdout",
     "output_type": "stream",
     "text": [
      "1    4\n",
      "6    2\n",
      "2    2\n",
      "4    1\n",
      "0    1\n",
      "dtype: int64\n",
      "\n"
     ]
    }
   ],
   "source": [
    "s = pd.Series(np.random.randint(0, 7, size=10))\n",
    "pr(s.value_counts())\n",
    "# pr(s.str.lower())"
   ]
  },
  {
   "cell_type": "code",
   "execution_count": 82,
   "metadata": {},
   "outputs": [
    {
     "name": "stdout",
     "output_type": "stream",
     "text": [
      "          0         1         2         3\n",
      "0  1.709326 -0.142482  1.951052 -0.866182\n",
      "1  2.511006  0.059048  0.180557  0.696303\n",
      "2 -1.659848 -0.382936 -0.886280 -1.880290\n",
      "3 -0.084559  1.102423 -0.013802  0.649188\n",
      "4 -1.319377  0.362231  0.758233  0.127305\n",
      "5  0.054930 -0.288324 -1.088964 -0.316348\n",
      "6 -0.243655  1.066278  0.770227 -0.009364\n",
      "7  0.602728  0.229409  1.236524  2.007674\n",
      "8  0.987131  0.799879 -0.368875 -0.892888\n",
      "9 -0.403521  0.966696 -1.399262 -0.418786\n",
      "\n"
     ]
    }
   ],
   "source": [
    "# 拼接\n",
    "df = pd.DataFrame(np.random.randn(10, 4))\n",
    "pieces = [df[:3], df[3:7], df[7:]]\n",
    "pr(pd.concat(pieces))"
   ]
  },
  {
   "cell_type": "code",
   "execution_count": 85,
   "metadata": {},
   "outputs": [
    {
     "name": "stdout",
     "output_type": "stream",
     "text": [
      "A    0.868401\n",
      "B    0.712497\n",
      "C   -0.371517\n",
      "D   -0.989233\n",
      "Name: 3, dtype: float64\n",
      "\n",
      "          A         B         C         D\n",
      "0  1.020006 -1.756977 -1.552137  0.053956\n",
      "1 -1.020455  0.321192 -0.842454  0.710054\n",
      "2 -0.586825 -0.131014 -1.779178  0.353057\n",
      "3  0.868401  0.712497 -0.371517 -0.989233\n",
      "4 -0.814205  0.292845 -0.909396 -0.455113\n",
      "5  0.251989  1.446514 -0.633732 -0.323940\n",
      "6  2.278206 -0.691748  1.499470  0.365602\n",
      "7 -0.179317 -1.764530 -0.331335 -0.415168\n",
      "\n"
     ]
    }
   ],
   "source": [
    "# Append\n",
    "df = pd.DataFrame(np.random.randn(8, 4), columns=[\"A\", \"B\", \"C\", \"D\"])\n",
    "s = df.iloc[3]\n",
    "pr(s)\n",
    "df.append(s, ignore_index=True)\n",
    "pr(df)"
   ]
  },
  {
   "cell_type": "code",
   "execution_count": 90,
   "metadata": {},
   "outputs": [
    {
     "name": "stdout",
     "output_type": "stream",
     "text": [
      "            C         D\n",
      "A                      \n",
      "bar -2.752432  2.738696\n",
      "foo -1.524099  1.283918\n",
      "\n",
      "                  C         D\n",
      "A   B                        \n",
      "bar one   -0.922540 -0.230076\n",
      "    three  0.142375  0.506244\n",
      "    two   -1.972266  2.462528\n",
      "foo one    1.700745  1.658450\n",
      "    three -0.133405  0.981640\n",
      "    two   -3.091438 -1.356171\n",
      "\n"
     ]
    }
   ],
   "source": [
    "# Group\n",
    "df = pd.DataFrame({'A': ['foo', 'bar', 'foo', 'bar',\n",
    "                         'foo', 'bar', 'foo', 'foo'],\n",
    "                  'B': ['one', 'one', 'two', 'three',\n",
    "                        'two', 'two', 'one', 'three'],\n",
    "                  'C': np.random.randn(8),\n",
    "                'D': np.random.randn(8)})\n",
    "pr(df.groupby(\"A\").sum())\n",
    "pr(df.groupby([\"A\", \"B\"]).sum())"
   ]
  },
  {
   "cell_type": "code",
   "execution_count": 94,
   "metadata": {},
   "outputs": [
    {
     "data": {
      "text/plain": [
       "<matplotlib.axes._subplots.AxesSubplot at 0x11a0999e8>"
      ]
     },
     "execution_count": 94,
     "metadata": {},
     "output_type": "execute_result"
    },
    {
     "data": {
      "image/png": "[encoded data removed]",
      "text/plain": [
       "<Figure size 432x288 with 1 Axes>"
      ]
     },
     "metadata": {},
     "output_type": "display_data"
    }
   ],
   "source": [
    "ts = pd.Series(np.random.randn(1000),\n",
    "               index=pd.date_range('1/1/2000', periods=1000))\n",
    "ts = ts.cumsum()\n",
    "ts.plot()"
   ]
  },
  {
   "cell_type": "code",
   "execution_count": 96,
   "metadata": {},
   "outputs": [
    {
     "data": {
      "text/plain": [
       "<matplotlib.axes._subplots.AxesSubplot at 0x11a1e05c0>"
      ]
     },
     "execution_count": 96,
     "metadata": {},
     "output_type": "execute_result"
    },
    {
     "data": {
      "image/png": "[encoded data removed]",
      "text/plain": [
       "<Figure size 432x288 with 1 Axes>"
      ]
     },
     "metadata": {},
     "output_type": "display_data"
    }
   ],
   "source": [
    "df = pd.DataFrame(np.random.randn(1000, 4), index=ts.index, \n",
    "                  columns=[\"A\", \"B\", \"C\", \"D\"])\n",
    "df = df.cumsum()\n",
    "df.plot()"
   ]
  },
  {
   "cell_type": "code",
   "execution_count": 98,
   "metadata": {},
   "outputs": [
    {
     "name": "stdout",
     "output_type": "stream",
     "text": [
      "total 512\r\n",
      "drwxr-xr-x   8 niudong  staff    256  5 27 13:12 \u001b[1m\u001b[36m.\u001b[m\u001b[m\r\n",
      "drwxr-xr-x  82 niudong  staff   2624  5 27 09:54 \u001b[1m\u001b[36m..\u001b[m\u001b[m\r\n",
      "-rw-r--r--@  1 niudong  staff   6148  5 26 13:09 .DS_Store\r\n",
      "drwxr-xr-x   4 niudong  staff    128  5 26 22:14 \u001b[1m\u001b[36m.ipynb_checkpoints\u001b[m\u001b[m\r\n",
      "drwxr-xr-x   3 niudong  staff     96  5 26 13:10 \u001b[1m\u001b[36mdata\u001b[m\u001b[m\r\n",
      "-rw-r--r--   1 niudong  staff  87007  5 27 13:13 foo.csv\r\n",
      "-rw-r--r--   1 niudong  staff  99648  5 27 13:12 pandas_intro.ipynb\r\n",
      "-rw-r--r--   1 niudong  staff  15124  5 26 22:13 preprocess.ipynb\r\n"
     ]
    }
   ],
   "source": [
    "df.to_csv(\"foo.csv\")\n",
    "!ls -al"
   ]
  },
  {
   "cell_type": "code",
   "execution_count": 7,
   "metadata": {},
   "outputs": [
    {
     "data": {
      "text/plain": [
       "<pandas.core.groupby.generic.SeriesGroupBy object at 0x116450898>"
      ]
     },
     "execution_count": 7,
     "metadata": {},
     "output_type": "execute_result"
    }
   ],
   "source": [
    "df = pd.DataFrame({'A': ['a', 'b', 'a', 'c', 'a', 'c', 'b', 'c'], \n",
    "                   'B': [2, 8, 1, 4, 3, 2, 5, 9], \n",
    "                   'C': [102, 98, 107, 104, 115, 87, 92, 123]})\n",
    "df.groupby('A').aggregate(np,)\n"
   ]
  }
 ],
 "metadata": {
  "kernelspec": {
   "display_name": "Python 3",
   "language": "python",
   "name": "python3"
  },
  "language_info": {
   "codemirror_mode": {
    "name": "ipython",
    "version": 3
   },
   "file_extension": ".py",
   "mimetype": "text/x-python",
   "name": "python",
   "nbconvert_exporter": "python",
   "pygments_lexer": "ipython3",
   "version": "3.6.5"
  }
 },
 "nbformat": 4,
 "nbformat_minor": 2
}
