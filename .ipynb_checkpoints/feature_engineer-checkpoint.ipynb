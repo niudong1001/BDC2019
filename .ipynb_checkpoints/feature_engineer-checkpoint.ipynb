{
 "cells": [
  {
   "cell_type": "code",
   "execution_count": 6,
   "metadata": {},
   "outputs": [],
   "source": [
    "from sklearn.datasets import load_iris\n",
    "import pandas as pd\n",
    "import numpy as np\n",
    "def pr(o):\n",
    "    print(o)\n",
    "    print()\n",
    "iris = load_iris()\n",
    "# pr(iris.data)\n",
    "# pr(iris.target)"
   ]
  },
  {
   "cell_type": "code",
   "execution_count": 23,
   "metadata": {},
   "outputs": [
    {
     "name": "stdout",
     "output_type": "stream",
     "text": [
      "          A         B         C         D\n",
      "1  0.657000 -0.066135  0.629589  0.304741\n",
      "2 -0.403870 -0.752600 -0.624517  0.570653\n",
      "3 -0.162894  0.632175  2.203181  1.816647\n",
      "4  0.645993  0.563945  1.085585  1.338518\n",
      "1    0.304741\n",
      "2    0.570653\n",
      "3    1.816647\n",
      "4    1.338518\n",
      "Name: D, dtype: float64 <class 'pandas.core.series.Series'>\n"
     ]
    }
   ],
   "source": [
    "k = pd.DataFrame(np.random.randn(4, 4), index=[1, 2, 3, 4], columns=[\"A\", \"B\", \"C\", \"D\"])\n",
    "print(k)\n",
    "print(k.D, type(k.D))"
   ]
  },
  {
   "cell_type": "code",
   "execution_count": 24,
   "metadata": {},
   "outputs": [
    {
     "name": "stdout",
     "output_type": "stream",
     "text": [
      "<class 'pandas.core.series.Series'>\n",
      "[-0.0661348591309946, -0.7525998097703263, 0.6321745100371097, 0.5639447459341356]\n"
     ]
    }
   ],
   "source": [
    "tmp = k.apply(lambda x: x[0] + x[3], axis=1)\n",
    "print(type(tmp))\n",
    "print(k.B.to_list())"
   ]
  },
  {
   "cell_type": "code",
   "execution_count": 161,
   "metadata": {},
   "outputs": [
    {
     "name": "stdout",
     "output_type": "stream",
     "text": [
      "total 608\r\n",
      "drwxr-xr-x  17 niudong  staff     544  5 28 20:26 \u001b[1m\u001b[36m.\u001b[m\u001b[m\r\n",
      "drwxr-xr-x  82 niudong  staff    2624  5 27 09:54 \u001b[1m\u001b[36m..\u001b[m\u001b[m\r\n",
      "-rw-r--r--@  1 niudong  staff    6148  5 28 16:50 .DS_Store\r\n",
      "drwxr-xr-x   5 niudong  staff     160  5 27 15:17 \u001b[1m\u001b[36m.ipynb_checkpoints\u001b[m\u001b[m\r\n",
      "drwxr-xr-x   3 niudong  staff      96  5 26 13:10 \u001b[1m\u001b[36mdata\u001b[m\u001b[m\r\n",
      "-rw-r--r--   1 niudong  staff    7925  5 28 20:26 feature_engineer.ipynb\r\n",
      "-rw-r--r--   1 niudong  staff   87007  5 27 13:13 foo.csv\r\n",
      "-rw-r--r--   1 niudong  staff  100497  5 27 13:13 pandas_intro.ipynb\r\n",
      "-rw-r--r--   1 niudong  staff   21652  5 27 13:20 preprocess.ipynb\r\n",
      "-rw-r--r--@  1 niudong  staff     193  5 28 20:27 train.csv\r\n",
      "-rw-r--r--@  1 niudong  staff      44  5 28 18:44 train_1.csv\r\n",
      "-rw-r--r--@  1 niudong  staff      44  5 28 18:44 train_2.csv\r\n",
      "-rw-r--r--@  1 niudong  staff      44  5 28 18:44 train_3.csv\r\n",
      "-rw-r--r--@  1 niudong  staff      44  5 28 18:44 train_4.csv\r\n",
      "-rw-r--r--@  1 niudong  staff      44  5 28 18:44 train_5.csv\r\n",
      "-rw-r--r--@  1 niudong  staff     220  5 28 18:45 train_processed.csv\r\n",
      "-rw-r--r--@  1 niudong  staff     337  5 27 19:50 数据集信息.md\r\n"
     ]
    }
   ],
   "source": [
    "tmp = pd.DataFrame({\"query_id\":[1, 2, 3, 4, 5, 6,7,8,9,10], \n",
    "                    \"query\": [\"12 32\", \"12 32\", \"12 33 23\", \"12 3\", \"1 32\", \"12 10 32\", \"12 10 32\", \"12 33 32\", \"12 3 12\", \"12 32 11 12\"], \n",
    "                    \"query_title\": [1, 2, 3, 4, 5, 6,7,8,9,10], \n",
    "                    \"title\": [\"12 21\", \" 11 2\", \"1\", \" 6 5 2\", \"7 8 9 10\", '1 2', '2 3', '4 5', '1 1 2 2', '12'], \n",
    "                    \"label\":[1, 0, 0, 0, 1, 1, 1, 0, 0, 1]})\n",
    "tmp.to_csv(\"train.csv\", header=None, index=None)\n",
    "!ls -al"
   ]
  },
  {
   "cell_type": "code",
   "execution_count": 162,
   "metadata": {},
   "outputs": [
    {
     "name": "stdout",
     "output_type": "stream",
     "text": [
      "Start processing...\n",
      "         feature  label\n",
      "0  12 32 s 12 21      1\n",
      "1  12 32 s  11 2      0\n",
      "Saved to file.\n",
      "\n",
      "         feature  label\n",
      "2   12 33 23 s 1      0\n",
      "3  12 3 s  6 5 2      0\n",
      "Saved to file.\n",
      "\n",
      "           feature  label\n",
      "4  1 32 s 7 8 9 10      1\n",
      "5   12 10 32 s 1 2      1\n",
      "Saved to file.\n",
      "\n",
      "          feature  label\n",
      "6  12 10 32 s 2 3      1\n",
      "7  12 33 32 s 4 5      0\n",
      "Saved to file.\n",
      "\n",
      "             feature  label\n",
      "8  12 3 12 s 1 1 2 2      0\n",
      "9   12 32 11 12 s 12      1\n",
      "Saved to file.\n",
      "\n",
      "Finished process.\n"
     ]
    }
   ],
   "source": [
    "def ProcessFeatures(filename, chunk_size=2, names=[\"query_id\", \"query\", \"query_title_id\", \"title\", \"label\"]):\n",
    "    print(\"Start processing...\")\n",
    "    reader = pd.read_csv(\n",
    "        filename, \n",
    "        sep=\",\",\n",
    "        iterator=True,\n",
    "        names=names,\n",
    "    )\n",
    "    f = lambda x: x[1] + \" s \" + x[3]\n",
    "    count = 1\n",
    "    while True:\n",
    "        try:\n",
    "            tmp = reader.get_chunk(chunk_size)\n",
    "            new_csv = pd.DataFrame({\"feature\": tmp.apply(f, axis=1), \"label\": tmp.label})\n",
    "            print(new_csv)\n",
    "            new_csv.to_csv(\"train_\"+str(count)+\".csv\", header=None, index=None)\n",
    "            count += 1\n",
    "            print(\"Saved to file.\")\n",
    "            print()\n",
    "        except StopIteration:\n",
    "            print(\"Finished process.\")\n",
    "            break\n",
    "ProcessFeatures(\"train.csv\")"
   ]
  },
  {
   "cell_type": "code",
   "execution_count": 163,
   "metadata": {},
   "outputs": [
    {
     "name": "stdout",
     "output_type": "stream",
     "text": [
      "Concated.\n"
     ]
    }
   ],
   "source": [
    "def ConcatFiles():\n",
    "    chunks = []\n",
    "    for _ in range(5):\n",
    "        chunks.append(pd.read_csv(\"train_\"+str(_+1)+\".csv\", sep=\",\", names=[\"feature\", \"label\"], header=None))\n",
    "    df = pd.concat(chunks, ignore_index=True, axis=0)\n",
    "    df.to_csv(\"train_processed.csv\", header=None, index=None)\n",
    "    print(\"Concated.\")\n",
    "ConcatFiles()"
   ]
  },
  {
   "cell_type": "code",
   "execution_count": 164,
   "metadata": {},
   "outputs": [
    {
     "name": "stdout",
     "output_type": "stream",
     "text": [
      "             feature  label\n",
      "0      12 32 s 12 21      1\n",
      "1      12 32 s  11 2      0\n",
      "2       12 33 23 s 1      0\n",
      "3      12 3 s  6 5 2      0\n",
      "4    1 32 s 7 8 9 10      1\n",
      "5     12 10 32 s 1 2      1\n",
      "6     12 10 32 s 2 3      1\n",
      "7     12 33 32 s 4 5      0\n",
      "8  12 3 12 s 1 1 2 2      0\n",
      "9   12 32 11 12 s 12      1\n"
     ]
    },
    {
     "data": {
      "text/plain": [
       "GaussianNB(priors=None, var_smoothing=1e-09)"
      ]
     },
     "execution_count": 164,
     "metadata": {},
     "output_type": "execute_result"
    }
   ],
   "source": [
    "df = pd.read_csv(\"train_processed.csv\", header=None, names=[\"feature\", \"label\"])\n",
    "print(df)\n",
    "\n",
    "\n",
    "X = np.array([[-1, -1], [-2, -1], [-3, -2], [1, 1], [2, 1], [3, 2]])\n",
    "Y = np.array([1, 1, 1, 2, 2, 2])\n",
    "from sklearn.naive_bayes import GaussianNB\n",
    "# print(tmp, type(tmp), type(tmp[0]))\n",
    "# print(tmp1, type(tmp1))\n",
    "nb_clf = GaussianNB()\n",
    "nb_clf.partial_fit(X, Y, np.unique(Y))"
   ]
  }
 ],
 "metadata": {
  "kernelspec": {
   "display_name": "Python 3",
   "language": "python",
   "name": "python3"
  },
  "language_info": {
   "codemirror_mode": {
    "name": "ipython",
    "version": 3
   },
   "file_extension": ".py",
   "mimetype": "text/x-python",
   "name": "python",
   "nbconvert_exporter": "python",
   "pygments_lexer": "ipython3",
   "version": "3.6.5"
  }
 },
 "nbformat": 4,
 "nbformat_minor": 2
}
