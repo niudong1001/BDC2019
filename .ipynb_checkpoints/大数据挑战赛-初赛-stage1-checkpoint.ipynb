{
 "cells": [
  {
   "cell_type": "markdown",
   "metadata": {},
   "source": [
    "## 包引入与变量准备"
   ]
  },
  {
   "cell_type": "code",
   "execution_count": 1,
   "metadata": {},
   "outputs": [],
   "source": [
    "import sys\n",
    "sys.path.append(\"./global\")\n",
    "from helper import Timer, ProcessForTrainWord2vec, ProcessForTrainFastText, ExtractLabels, ConvertCsvToNpy\n",
    "import csv"
   ]
  },
  {
   "cell_type": "code",
   "execution_count": 2,
   "metadata": {},
   "outputs": [],
   "source": [
    "# STAGE1\n",
    "state1_dir = \"./stage1/\"\n",
    "stage1_code_dir = state1_dir + \"code/\"\n",
    "stage1_input_dir = state1_dir + \"input/\"\n",
    "stage1_output_dir = state1_dir + \"output/\"\n",
    "train_file_data = stage1_input_dir + \"train_01_0607.csv\"\n",
    "test_file_data = stage1_input_dir + \"test_copy.csv\"\n",
    "# STAGE2\n",
    "state2_dir = \"./stage2/\"\n",
    "stage2_input_dir = state2_dir + \"input/\""
   ]
  },
  {
   "cell_type": "markdown",
   "metadata": {},
   "source": [
    "## 随机采样数据\n",
    "\n",
    "1. 随机从一亿数据中采样1000万条数据来训练\n",
    "2. 移动测试数据集到input目录"
   ]
  },
  {
   "cell_type": "code",
   "execution_count": 3,
   "metadata": {},
   "outputs": [],
   "source": [
    "# online: \"/home/kesci/input/bytedance/first-round/train.csv\"\n",
    "# offline: \"../../data/train.csv\"\n",
    "# ! cd stage1/code; python ./build_random_samples.py -f \"../../data/train.csv\" -r .1 -d ../input/ -s \"train_01_0607.csv\""
   ]
  },
  {
   "cell_type": "code",
   "execution_count": 4,
   "metadata": {},
   "outputs": [],
   "source": [
    "# online: \"/home/kesci/input/bytedance/first-round/test.csv\"\n",
    "# offline: \"../../data/test.csv\"\n",
    "# !cd stage1/code; cp \"../../data/test.csv\" \"../input/test_copy.csv\""
   ]
  },
  {
   "cell_type": "markdown",
   "metadata": {},
   "source": [
    "## 生成词向量"
   ]
  },
  {
   "cell_type": "markdown",
   "metadata": {},
   "source": [
    "### Word2Vec\n",
    "\n",
    "1. 生成Word2vec可直接训练的sentences文件\n",
    "2. 训练word2vec"
   ]
  },
  {
   "cell_type": "code",
   "execution_count": 5,
   "metadata": {},
   "outputs": [],
   "source": [
    "# ProcessForTrainWord2vec(train_file_data, stage1_input_dir+\"word2vec_sentences.txt\")"
   ]
  },
  {
   "cell_type": "code",
   "execution_count": 6,
   "metadata": {},
   "outputs": [],
   "source": [
    "# !cd stage1/code; python build_word2vec.py -f \"../input/word2vec_sentences.txt\" -d \"../output/\" -m \"word2vec.model\""
   ]
  },
  {
   "cell_type": "markdown",
   "metadata": {},
   "source": [
    "### FastText\n",
    "\n",
    "FastText的使用：https://blog.csdn.net/ymaini/article/details/81489599\n",
    "\n",
    "1. 生成适合fastText训练的文本格式\n",
    "2. 有监督训练"
   ]
  },
  {
   "cell_type": "code",
   "execution_count": 7,
   "metadata": {},
   "outputs": [],
   "source": [
    "# ProcessForTrainFastText(train_file_data, stage1_input_dir+\"fastText_labeled_content.txt\", add_label=True)"
   ]
  },
  {
   "cell_type": "code",
   "execution_count": 8,
   "metadata": {},
   "outputs": [],
   "source": [
    "# !cd stage1/code; python build_fastText.py -f \"../input/fastText_labeled_content.txt\" -d \"../output/\" -s \"fastText_supervised.bin\""
   ]
  },
  {
   "cell_type": "markdown",
   "metadata": {},
   "source": [
    "## 特征抽取"
   ]
  },
  {
   "cell_type": "markdown",
   "metadata": {},
   "source": [
    "### Text Mining Featues"
   ]
  },
  {
   "cell_type": "code",
   "execution_count": 9,
   "metadata": {},
   "outputs": [],
   "source": [
    "# ! cd stage1/code; python feature_text.py -f \"../input/train_01_0607.csv\" -p \"train_v1\" -d \"../output\" -b \"true\"\n",
    "# ! cd stage1/code; python feature_text.py -f \"../input/test_copy.csv\" -p \"test_v1\" -d \"../output\" -b \"true\" -t \"false\""
   ]
  },
  {
   "cell_type": "markdown",
   "metadata": {},
   "source": [
    "### Embedding Features"
   ]
  },
  {
   "cell_type": "code",
   "execution_count": 10,
   "metadata": {},
   "outputs": [],
   "source": [
    "# ! cd stage1/code; python feature_embed.py -f \"../input/train_01_0607.csv\" -p \"train_v1\" -d \"../output\" -b \"true\" -e \"word2vec\"\n",
    "# ! cd stage1/code; python feature_embed.py -f \"../input/test_copy.csv\" -p \"test_v1\" -d \"../output\" -b \"true\" -e \"word2vec\" -t \"false\""
   ]
  },
  {
   "cell_type": "markdown",
   "metadata": {},
   "source": [
    "## 模型训练"
   ]
  },
  {
   "cell_type": "code",
   "execution_count": 11,
   "metadata": {},
   "outputs": [
    {
     "name": "stdout",
     "output_type": "stream",
     "text": [
      "----->Started 'Convert CSV To NPY' block...\n",
      "Npy file saved to ./stage2/input/train_v1_feature_text.\n",
      "----->Finished 'Convert CSV To NPY' block, time used: 0.03s.\n",
      "----->Started 'Convert CSV To NPY' block...\n",
      "Npy file saved to ./stage2/input/test_v1_feature_text.\n",
      "----->Finished 'Convert CSV To NPY' block, time used: 0.0s.\n"
     ]
    }
   ],
   "source": [
    "# 提取训练labels\n",
    "# ExtractLabels(train_file_data, stage2_input_dir+\"train_labels\")\n",
    "# 将特征转化为适合模型读取的numpy格式\n",
    "# ConvertCsvToNpy(stage1_output_dir+\"/train_v1_feature_text.csv\", stage2_input_dir+\"train_v1_feature_text\")\n",
    "# ConvertCsvToNpy(stage1_output_dir+\"/test_v1_feature_text.csv\", stage2_input_dir+\"test_v1_feature_text\")"
   ]
  },
  {
   "cell_type": "code",
   "execution_count": 12,
   "metadata": {},
   "outputs": [],
   "source": [
    "# !cd stage2/code; python run_hyperopt.py"
   ]
  }
 ],
 "metadata": {
  "kernelspec": {
   "display_name": "Python 3",
   "language": "python",
   "name": "python3"
  },
  "language_info": {
   "codemirror_mode": {
    "name": "ipython",
    "version": 3
   },
   "file_extension": ".py",
   "mimetype": "text/x-python",
   "name": "python",
   "nbconvert_exporter": "python",
   "pygments_lexer": "ipython3",
   "version": "3.6.5"
  }
 },
 "nbformat": 4,
 "nbformat_minor": 2
}
