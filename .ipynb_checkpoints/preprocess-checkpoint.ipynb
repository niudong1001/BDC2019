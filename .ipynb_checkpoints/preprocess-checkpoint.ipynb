{
 "cells": [
  {
   "cell_type": "code",
   "execution_count": 1,
   "metadata": {},
   "outputs": [],
   "source": [
    "import pandas as pd\n",
    "import numpy as np"
   ]
  },
  {
   "cell_type": "code",
   "execution_count": 56,
   "metadata": {},
   "outputs": [],
   "source": [
    "def pr(o):\n",
    "    print(o)\n",
    "    print()"
   ]
  },
  {
   "cell_type": "code",
   "execution_count": 71,
   "metadata": {},
   "outputs": [
    {
     "name": "stdout",
     "output_type": "stream",
     "text": [
      "<class 'pandas.core.frame.DataFrame'>\n",
      "RangeIndex: 3085 entries, 0 to 3084\n",
      "Data columns (total 4 columns):\n",
      "query_id    3085 non-null int64\n",
      "query       3085 non-null object\n",
      "title       3085 non-null object\n",
      "clicked     3085 non-null int64\n",
      "dtypes: int64(2), object(2)\n",
      "memory usage: 96.5+ KB\n",
      "None\n",
      "\n",
      "          query_id      clicked\n",
      "count  3085.000000  3085.000000\n",
      "mean    513.853485     0.150729\n",
      "std     297.650177     0.357843\n",
      "min       1.000000     0.000000\n",
      "25%     265.000000     0.000000\n",
      "50%     505.000000     0.000000\n",
      "75%     776.000000     0.000000\n",
      "max    1034.000000     1.000000\n",
      "\n",
      "465\n",
      "\n",
      "AxesSubplot(0.125,0.125;0.775x0.755)\n",
      "\n"
     ]
    },
    {
     "data": {
      "image/png": "[encoded data removed]",
      "text/plain": [
       "<Figure size 432x288 with 1 Axes>"
      ]
     },
     "metadata": {},
     "output_type": "display_data"
    }
   ],
   "source": [
    "df = pd.read_table(\"./data/大数据挑战赛_sample.txt\", encoding=\"utf-8\", sep=\",\", header=None, names=[\"query_id\", \"query\", \"title\", \"clicked\"])\n",
    "pr(df.info())\n",
    "pr(df.describe())\n",
    "pr(len(df[df.clicked == 1]))\n"
   ]
  },
  {
   "cell_type": "code",
   "execution_count": 61,
   "metadata": {},
   "outputs": [
    {
     "data": {
      "text/html": [
       "<div>\n",
       "<style scoped>\n",
       "    .dataframe tbody tr th:only-of-type {\n",
       "        vertical-align: middle;\n",
       "    }\n",
       "\n",
       "    .dataframe tbody tr th {\n",
       "        vertical-align: top;\n",
       "    }\n",
       "\n",
       "    .dataframe thead th {\n",
       "        text-align: right;\n",
       "    }\n",
       "</style>\n",
       "<table border=\"1\" class=\"dataframe\">\n",
       "  <thead>\n",
       "    <tr style=\"text-align: right;\">\n",
       "      <th></th>\n",
       "      <th>query_id</th>\n",
       "      <th>query</th>\n",
       "      <th>title</th>\n",
       "      <th>clicked</th>\n",
       "    </tr>\n",
       "  </thead>\n",
       "  <tbody>\n",
       "    <tr>\n",
       "      <th>0</th>\n",
       "      <td>1</td>\n",
       "      <td>100 平方 设计图</td>\n",
       "      <td>20万 以内 占地约 100 平 米 农村 二层 小别墅 设计图</td>\n",
       "      <td>0</td>\n",
       "    </tr>\n",
       "    <tr>\n",
       "      <th>1</th>\n",
       "      <td>1</td>\n",
       "      <td>100 平方 设计图</td>\n",
       "      <td>25万 占地 100 平方 米 2 厅 4 卧 农村 自建房 设计图</td>\n",
       "      <td>0</td>\n",
       "    </tr>\n",
       "    <tr>\n",
       "      <th>2</th>\n",
       "      <td>1</td>\n",
       "      <td>100 平方 设计图</td>\n",
       "      <td>4 款 农村 100 平方 自建房 设计图 是 房子 更是 传家宝 款款 经典 内含 图纸</td>\n",
       "      <td>0</td>\n",
       "    </tr>\n",
       "    <tr>\n",
       "      <th>3</th>\n",
       "      <td>2</td>\n",
       "      <td>100 款 电视 背景墙</td>\n",
       "      <td>100 款 时尚 电视 背景墙 装修 效果图 大全 10月 爆款 出炉</td>\n",
       "      <td>0</td>\n",
       "    </tr>\n",
       "    <tr>\n",
       "      <th>4</th>\n",
       "      <td>2</td>\n",
       "      <td>100 款 电视 背景墙</td>\n",
       "      <td>100 款 电视 背景墙 太漂亮 了</td>\n",
       "      <td>0</td>\n",
       "    </tr>\n",
       "  </tbody>\n",
       "</table>\n",
       "</div>"
      ],
      "text/plain": [
       "   query_id         query                                          title  \\\n",
       "0         1    100 平方 设计图               20万 以内 占地约 100 平 米 农村 二层 小别墅 设计图   \n",
       "1         1    100 平方 设计图             25万 占地 100 平方 米 2 厅 4 卧 农村 自建房 设计图   \n",
       "2         1    100 平方 设计图  4 款 农村 100 平方 自建房 设计图 是 房子 更是 传家宝 款款 经典 内含 图纸   \n",
       "3         2  100 款 电视 背景墙            100 款 时尚 电视 背景墙 装修 效果图 大全 10月 爆款 出炉   \n",
       "4         2  100 款 电视 背景墙                             100 款 电视 背景墙 太漂亮 了   \n",
       "\n",
       "   clicked  \n",
       "0        0  \n",
       "1        0  \n",
       "2        0  \n",
       "3        0  \n",
       "4        0  "
      ]
     },
     "execution_count": 61,
     "metadata": {},
     "output_type": "execute_result"
    }
   ],
   "source": [
    "df.head()"
   ]
  },
  {
   "cell_type": "code",
   "execution_count": null,
   "metadata": {},
   "outputs": [],
   "source": []
  }
 ],
 "metadata": {
  "kernelspec": {
   "display_name": "Python 3",
   "language": "python",
   "name": "python3"
  },
  "language_info": {
   "codemirror_mode": {
    "name": "ipython",
    "version": 3
   },
   "file_extension": ".py",
   "mimetype": "text/x-python",
   "name": "python",
   "nbconvert_exporter": "python",
   "pygments_lexer": "ipython3",
   "version": "3.6.5"
  }
 },
 "nbformat": 4,
 "nbformat_minor": 2
}
