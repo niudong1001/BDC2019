{
 "cells": [
  {
   "cell_type": "code",
   "execution_count": 2,
   "metadata": {
    "id": "FA2A80CA32344C37AF94220321DB9996",
    "scrolled": false
   },
   "outputs": [],
   "source": [
    "from gensim.models import Word2Vec"
   ]
  },
  {
   "cell_type": "markdown",
   "metadata": {
    "id": "891D040D52D24732A34C6DE6833C06C4",
    "mdEditEnable": false
   },
   "source": [
    "## 目录查看"
   ]
  },
  {
   "cell_type": "code",
   "execution_count": 23,
   "metadata": {
    "id": "797D3901ECE8423E86F0BD5E8E61D689",
    "scrolled": false
   },
   "outputs": [
    {
     "name": "stdout",
     "output_type": "stream",
     "text": [
      "total 6.2G\r\n",
      "drwxr-xr-x 3 kesci root  4.0K Jun  7 14:37 .\r\n",
      "drwxr-xr-x 5 kesci users 4.0K Jun  7 01:37 ..\r\n",
      "-rw-r--r-- 1 kesci users 889M Jun  7 09:35 fastText_supervised.bin\r\n",
      "drwxr-xr-x 2 kesci users 4.0K Jun  2 07:41 stats\r\n",
      "-rw-r--r-- 1 kesci users 1.4G Jun  7 12:49 test_v1_feature_text.csv\r\n",
      "-rw-r--r-- 1 kesci users 2.8G Jun  7 11:46 train_v1_feature_text.csv\r\n",
      "-rw-r--r-- 1 kesci users  20M Jun  7 08:50 word2vec.model\r\n",
      "-rw-r--r-- 1 kesci users 242M Jun  7 08:50 word2vec.model.trainables.syn1neg.npy\r\n",
      "-rw-r--r-- 1 kesci users 242M Jun  7 08:50 word2vec.model.wv.vectors.npy\r\n",
      "-rw-r--r-- 1 kesci users 794M Jun  7 14:39 word2vec.vec\r\n"
     ]
    }
   ],
   "source": [
    "!ls -alh stage1/output"
   ]
  },
  {
   "cell_type": "code",
   "execution_count": 6,
   "metadata": {
    "id": "D1E71DA471B540DB800BF044F7BBA16E",
    "scrolled": false
   },
   "outputs": [
    {
     "name": "stderr",
     "output_type": "stream",
     "text": [
      "/Users/niudong/workon_home/py3/lib/python3.6/site-packages/smart_open/smart_open_lib.py:398: UserWarning: This function is deprecated, use smart_open.open instead. See the migration notes for details: https://github.com/RaRe-Technologies/smart_open/blob/master/README.rst#migrating-to-the-new-open-function\n",
      "  'See the migration notes for details: %s' % _MIGRATION_NOTES_URL\n",
      "/Users/niudong/workon_home/py3/lib/python3.6/site-packages/smart_open/smart_open_lib.py:398: UserWarning: This function is deprecated, use smart_open.open instead. See the migration notes for details: https://github.com/RaRe-Technologies/smart_open/blob/master/README.rst#migrating-to-the-new-open-function\n",
      "  'See the migration notes for details: %s' % _MIGRATION_NOTES_URL\n"
     ]
    }
   ],
   "source": [
    "# 将word2vec转化为可读取的vec格式\n",
    "model = Word2Vec.load(\"stage1/output/word2vec.model\")\n",
    "model.wv.save(\"stage1/output/word2vec.kv\")\n",
    "# model.wv.save_word2vec_format(\"stage1/output/word2vec.vec\", binary=False)\n",
    "del model"
   ]
  },
  {
   "cell_type": "code",
   "execution_count": 16,
   "metadata": {
    "id": "7BB19E1010DC4235A923D9081EB1950A",
    "scrolled": false
   },
   "outputs": [
    {
     "name": "stdout",
     "output_type": "stream",
     "text": [
      "total 2.9G\r\n",
      "drwxr-xr-x 2 kesci root  4.0K Jun  7 09:00 .\r\n",
      "drwxr-xr-x 5 kesci users 4.0K Jun  7 01:37 ..\r\n",
      "-rw-r--r-- 1 kesci users 852M Jun  7 09:00 fastText_labeled_content.txt\r\n",
      "-rw-r--r-- 1 kesci users 426M Jun  7 05:34 test_copy.csv\r\n",
      "-rw-r--r-- 1 kesci users 866M Jun  7 05:33 train_01_0607.csv\r\n",
      "-rw-r--r-- 1 kesci users 747M Jun  7 06:11 word2vec_sentences.txt\r\n"
     ]
    }
   ],
   "source": [
    "!ls -alh stage1/input"
   ]
  },
  {
   "cell_type": "markdown",
   "metadata": {
    "id": "4499F7C0462B47C7868E48CBA84CB123",
    "mdEditEnable": false
   },
   "source": [
    "## 结果提交"
   ]
  },
  {
   "cell_type": "code",
   "execution_count": null,
   "metadata": {
    "id": "60FA271692C046C09ED130031F46ECD1",
    "scrolled": false
   },
   "outputs": [],
   "source": [
    "import csv\n",
    "query_ids = []\n",
    "query_title_ids = []\n",
    "predicts = []\n",
    "def ProcessForFastText():\n",
    "  with Timer(\"Predict with fastText\"):\n",
    "      with open('../input/bytedance/first-round/test.csv') as csv_file:\n",
    "          csv_reader = csv.reader(csv_file, delimiter=',')\n",
    "          line_count = 0\n",
    "          for row in csv_reader:\n",
    "              query_ids.append(row[0])\n",
    "              query_title_ids.append(row[2])\n",
    "              predicts.append(loaded_model.predict(row[1]+\" \"+row[3], k=2)[1][1])\n",
    "              line_count+=1\n",
    "              if line_count % 5000000 == 0: # 10000*10000 一亿条要一晚上\n",
    "                  print(f'Processed {line_count} lines.')\n",
    "ProcessForFastText()"
   ]
  },
  {
   "cell_type": "code",
   "execution_count": null,
   "metadata": {
    "id": "689D3652DF684413979E9ECEFE3FC1C1",
    "scrolled": false
   },
   "outputs": [],
   "source": [
    "print(query_ids[:10])\n",
    "print(query_title_ids[:10])\n",
    "print(predicts[:10])"
   ]
  },
  {
   "cell_type": "code",
   "execution_count": null,
   "metadata": {
    "id": "DCD1BE0FD981417F9339295596E7921B",
    "scrolled": false
   },
   "outputs": [],
   "source": [
    "import pandas as pd\n",
    "res = pd.DataFrame({\n",
    "    \"query_id\": query_ids,\n",
    "    \"query_title_id\": query_title_ids,\n",
    "    \"click\": predicts\n",
    "})\n",
    "res.to_csv(\"submit_fastText.csv\", index=None, header=None)\n",
    "! ls -al"
   ]
  },
  {
   "cell_type": "code",
   "execution_count": null,
   "metadata": {
    "id": "1D7E59A5FC934A858532BA0F30C7E348",
    "scrolled": false
   },
   "outputs": [],
   "source": [
    "print(pd.read_csv(\"submit_fastText.csv\")[:5])"
   ]
  },
  {
   "cell_type": "code",
   "execution_count": null,
   "metadata": {
    "id": "D8239D1287184A2C91895D796EE8F9F7",
    "scrolled": false
   },
   "outputs": [],
   "source": [
    "!./kesci_submit -token 490475a1ae106f67 -file submit_fastText.csv"
   ]
  },
  {
   "cell_type": "code",
   "execution_count": null,
   "metadata": {
    "id": "C6263C2584674115B478B4B769D9FAE4",
    "scrolled": false
   },
   "outputs": [],
   "source": [
    "print(loaded_model.predict(\"1427 564550 2136 11 60847 9156 12497 11\", k=2))\n",
    "! ls -al"
   ]
  }
 ],
 "metadata": {
  "kernelspec": {
   "display_name": "Python 3",
   "language": "python",
   "name": "python3"
  },
  "language_info": {
   "codemirror_mode": {
    "name": "ipython",
    "version": 3
   },
   "file_extension": ".py",
   "mimetype": "text/x-python",
   "name": "python",
   "nbconvert_exporter": "python",
   "pygments_lexer": "ipython3",
   "version": "3.6.5"
  }
 },
 "nbformat": 4,
 "nbformat_minor": 1
}
