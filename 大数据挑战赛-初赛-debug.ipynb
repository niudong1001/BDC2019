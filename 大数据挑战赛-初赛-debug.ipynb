{
 "cells": [
  {
   "cell_type": "code",
   "execution_count": 19,
   "metadata": {
    "id": "FA2A80CA32344C37AF94220321DB9996",
    "scrolled": false
   },
   "outputs": [],
   "source": [
    "from gensim.models import Word2Vec\n",
    "import numpy as np\n",
    "import pandas as pd\n",
    "import sys\n",
    "sys.path.append(\"./global\")\n",
    "from helper import Timer, ReadCSV, ORI_TEST_NAMES"
   ]
  },
  {
   "cell_type": "code",
   "execution_count": 34,
   "metadata": {},
   "outputs": [],
   "source": [
    "# 拆分训练集与测试集\n",
    "# df = pd.read_csv(\"./legacy/data/train_data.csv\")\n",
    "# df.iloc[:15000].to_csv(\"./legacy/data/train.csv\", header=None, index=None)\n",
    "# df.iloc[15000:].to_csv(\"./legacy/data/test.csv\", header=None, index=None)"
   ]
  },
  {
   "cell_type": "markdown",
   "metadata": {
    "id": "891D040D52D24732A34C6DE6833C06C4",
    "mdEditEnable": false
   },
   "source": [
    "## 目录查看"
   ]
  },
  {
   "cell_type": "code",
   "execution_count": 23,
   "metadata": {
    "id": "797D3901ECE8423E86F0BD5E8E61D689",
    "scrolled": false
   },
   "outputs": [
    {
     "name": "stdout",
     "output_type": "stream",
     "text": [
      "total 6.2G\r\n",
      "drwxr-xr-x 3 kesci root  4.0K Jun  7 14:37 .\r\n",
      "drwxr-xr-x 5 kesci users 4.0K Jun  7 01:37 ..\r\n",
      "-rw-r--r-- 1 kesci users 889M Jun  7 09:35 fastText_supervised.bin\r\n",
      "drwxr-xr-x 2 kesci users 4.0K Jun  2 07:41 stats\r\n",
      "-rw-r--r-- 1 kesci users 1.4G Jun  7 12:49 test_v1_feature_text.csv\r\n",
      "-rw-r--r-- 1 kesci users 2.8G Jun  7 11:46 train_v1_feature_text.csv\r\n",
      "-rw-r--r-- 1 kesci users  20M Jun  7 08:50 word2vec.model\r\n",
      "-rw-r--r-- 1 kesci users 242M Jun  7 08:50 word2vec.model.trainables.syn1neg.npy\r\n",
      "-rw-r--r-- 1 kesci users 242M Jun  7 08:50 word2vec.model.wv.vectors.npy\r\n",
      "-rw-r--r-- 1 kesci users 794M Jun  7 14:39 word2vec.vec\r\n"
     ]
    }
   ],
   "source": [
    "!ls -alh stage1/output"
   ]
  },
  {
   "cell_type": "code",
   "execution_count": 7,
   "metadata": {
    "id": "D1E71DA471B540DB800BF044F7BBA16E",
    "scrolled": false
   },
   "outputs": [],
   "source": [
    "# 将word2vec转化为可读取的vec格式\n",
    "# model = Word2Vec.load(\"stage1/output/word2vec.model\")\n",
    "# model.wv.save(\"stage1/output/word2vec.kv\")\n",
    "# model.wv.save_word2vec_format(\"stage1/output/word2vec.vec\", binary=False)\n",
    "# del model"
   ]
  },
  {
   "cell_type": "code",
   "execution_count": 16,
   "metadata": {
    "id": "7BB19E1010DC4235A923D9081EB1950A",
    "scrolled": false
   },
   "outputs": [
    {
     "name": "stdout",
     "output_type": "stream",
     "text": [
      "total 2.9G\r\n",
      "drwxr-xr-x 2 kesci root  4.0K Jun  7 09:00 .\r\n",
      "drwxr-xr-x 5 kesci users 4.0K Jun  7 01:37 ..\r\n",
      "-rw-r--r-- 1 kesci users 852M Jun  7 09:00 fastText_labeled_content.txt\r\n",
      "-rw-r--r-- 1 kesci users 426M Jun  7 05:34 test_copy.csv\r\n",
      "-rw-r--r-- 1 kesci users 866M Jun  7 05:33 train_01_0607.csv\r\n",
      "-rw-r--r-- 1 kesci users 747M Jun  7 06:11 word2vec_sentences.txt\r\n"
     ]
    }
   ],
   "source": [
    "!ls -alh stage1/input"
   ]
  },
  {
   "cell_type": "code",
   "execution_count": 30,
   "metadata": {},
   "outputs": [
    {
     "name": "stdout",
     "output_type": "stream",
     "text": [
      "total 24\r\n",
      "drwxr-xr-x   6 niudong  staff   192B  6  8 16:12 \u001b[1m\u001b[36m.\u001b[m\u001b[m\r\n",
      "drwxr-xr-x   5 niudong  staff   160B  6  8 10:22 \u001b[1m\u001b[36m..\u001b[m\u001b[m\r\n",
      "-rw-r--r--@  1 niudong  staff   6.0K  6  8 16:13 .DS_Store\r\n",
      "-rw-r--r--   1 niudong  staff   1.2K  6  8 17:08 lgb_gbdt_best_info.json\r\n",
      "drwxr-xr-x  43 niudong  staff   1.3K  6  8 17:08 \u001b[1m\u001b[36mtest\u001b[m\u001b[m\r\n",
      "drwxr-xr-x  43 niudong  staff   1.3K  6  8 17:08 \u001b[1m\u001b[36mtrain\u001b[m\u001b[m\r\n"
     ]
    }
   ],
   "source": [
    "!ls -alh stage2/output"
   ]
  },
  {
   "cell_type": "markdown",
   "metadata": {
    "id": "4499F7C0462B47C7868E48CBA84CB123",
    "mdEditEnable": false
   },
   "source": [
    "## 结果提交"
   ]
  },
  {
   "cell_type": "code",
   "execution_count": 16,
   "metadata": {
    "id": "689D3652DF684413979E9ECEFE3FC1C1",
    "scrolled": false
   },
   "outputs": [],
   "source": [
    "stage2_output_dir = \"./stage2/output/\"\n",
    "stage2_out_test_dir = stage2_output_dir + \"test/\"\n",
    "test_file = \"./stage1/input/test_copy.csv\""
   ]
  },
  {
   "cell_type": "code",
   "execution_count": 29,
   "metadata": {
    "id": "60FA271692C046C09ED130031F46ECD1",
    "scrolled": false
   },
   "outputs": [],
   "source": [
    "test_res = np.load(stage2_out_test_dir+\"lgb_gbdt_1559981536_0.545611_0.021148.npy\")\n",
    "test_csv = ReadCSV(test_file, names=ORI_TEST_NAMES, iterator=False)\n",
    "res = pd.DataFrame({\n",
    "    \"query_id\": test_csv[\"query_id\"],\n",
    "    \"query_title_id\": test_csv[\"query_title_id\"],\n",
    "    \"label\":test_res\n",
    "})\n",
    "res.to_csv(\"./global/submits/lgb_gbdt_1559981536_0.545611_0.021148.csv\", index=None, header=None)"
   ]
  },
  {
   "cell_type": "code",
   "execution_count": null,
   "metadata": {},
   "outputs": [],
   "source": [
    "! ls -lsh ./global/submits"
   ]
  },
  {
   "cell_type": "code",
   "execution_count": null,
   "metadata": {},
   "outputs": [],
   "source": [
    "!cd ./global/submits;./kesci_submit -token 490475a1ae106f67 -file lgb_gbdt_1559990841_0.547674_0.003729.csv"
   ]
  }
 ],
 "metadata": {
  "kernelspec": {
   "display_name": "Python 3",
   "language": "python",
   "name": "python3"
  },
  "language_info": {
   "codemirror_mode": {
    "name": "ipython",
    "version": 3
   },
   "file_extension": ".py",
   "mimetype": "text/x-python",
   "name": "python",
   "nbconvert_exporter": "python",
   "pygments_lexer": "ipython3",
   "version": "3.6.5"
  }
 },
 "nbformat": 4,
 "nbformat_minor": 1
}
