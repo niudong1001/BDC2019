{
 "cells": [
  {
   "cell_type": "code",
   "execution_count": 40,
   "metadata": {
    "id": "FA2A80CA32344C37AF94220321DB9996",
    "scrolled": false
   },
   "outputs": [],
   "source": [
    "import sys\n",
    "from gensim.models import Word2Vec\n",
    "import numpy as np\n",
    "import pandas as pd\n",
    "sys.path.append(\"./global\")\n",
    "from helper import Timer, ReadCSV, ORI_TEST_NAMES, ORI_TRAIN_NAMES"
   ]
  },
  {
   "cell_type": "code",
   "execution_count": 53,
   "metadata": {},
   "outputs": [],
   "source": [
    "# 本地训练：拆分训练集与测试集\n",
    "# df = pd.read_csv(\"./legacy/data/train_data.csv\", names=ORI_TRAIN_NAMES)\n",
    "# train_point = 15000\n",
    "# df.iloc[:train_point].to_csv(\"./legacy/data/train.csv\", header=False, index=None)\n",
    "# df[ORI_TRAIN_NAMES[:-1]].iloc[train_point:].to_csv(\"./legacy/data/test.csv\", header=False, index=None)\n",
    "# df[ORI_TRAIN_NAMES[-1]].iloc[train_point:].to_csv(\"./legacy/data/test_label.csv\", header=False, index=None)"
   ]
  },
  {
   "cell_type": "markdown",
   "metadata": {
    "id": "891D040D52D24732A34C6DE6833C06C4",
    "mdEditEnable": false
   },
   "source": [
    "## 目录查看"
   ]
  },
  {
   "cell_type": "code",
   "execution_count": 46,
   "metadata": {
    "id": "D1E71DA471B540DB800BF044F7BBA16E",
    "scrolled": false
   },
   "outputs": [],
   "source": [
    "# 将word2vec转化为可读取的vec格式\n",
    "# model = Word2Vec.load(\"stage1/output/word2vec.model\")\n",
    "# model.wv.save(\"stage1/output/word2vec.kv\")\n",
    "# model.wv.save_word2vec_format(\"stage1/output/word2vec.vec\", binary=False)\n",
    "# del model"
   ]
  },
  {
   "cell_type": "code",
   "execution_count": 47,
   "metadata": {
    "id": "797D3901ECE8423E86F0BD5E8E61D689",
    "scrolled": false
   },
   "outputs": [
    {
     "name": "stdout",
     "output_type": "stream",
     "text": [
      "total 1200\n",
      "drwxr-xr-x  7 niudong  staff   224B  6  7 22:51 \u001b[1m\u001b[36m.\u001b[m\u001b[m\n",
      "drwxr-xr-x  6 niudong  staff   192B  6  2 21:55 \u001b[1m\u001b[36m..\u001b[m\u001b[m\n",
      "-rw-r--r--@ 1 niudong  staff   6.0K  6  7 22:51 .DS_Store\n",
      "-rw-r--r--  1 niudong  staff   176K  6  7 16:16 fastText_labeled_content.txt\n",
      "-rw-r--r--@ 1 niudong  staff   112B  6  7 22:56 test_copy.csv\n",
      "-rw-r--r--@ 1 niudong  staff   172K  6  7 14:26 train_01_0607.csv\n",
      "-rw-r--r--@ 1 niudong  staff   155K  6  7 15:07 word2vec_sentences.txt\n",
      "total 1575600\n",
      "drwxr-xr-x  10 niudong  staff   320B  6  8 15:58 \u001b[1m\u001b[36m.\u001b[m\u001b[m\n",
      "drwxr-xr-x   6 niudong  staff   192B  6  2 21:55 \u001b[1m\u001b[36m..\u001b[m\u001b[m\n",
      "-rw-r--r--@  1 niudong  staff   6.0K  6  8 16:11 .DS_Store\n",
      "-rw-r--r--   1 niudong  staff   763M  6  7 16:50 fastText_supervised.bin\n",
      "-rw-r--r--@  1 niudong  staff   1.1K  6  8 15:54 test_v1_feature_embed.csv\n",
      "-rw-r--r--@  1 niudong  staff   1.5K  6  8 15:53 test_v1_feature_text.csv\n",
      "-rw-r--r--@  1 niudong  staff   406K  6  8 15:53 train_v1_feature_embed.csv\n",
      "-rw-r--r--@  1 niudong  staff   561K  6  8 15:53 train_v1_feature_text.csv\n",
      "-rw-r--r--   1 niudong  staff   1.6M  6  7 22:43 word2vec.kv\n",
      "-rw-r--r--   1 niudong  staff   3.2M  6  7 16:54 word2vec.model\n"
     ]
    }
   ],
   "source": [
    "!ls -alh stage1/input\n",
    "!ls -alh stage1/output"
   ]
  },
  {
   "cell_type": "code",
   "execution_count": 48,
   "metadata": {},
   "outputs": [
    {
     "name": "stdout",
     "output_type": "stream",
     "text": [
      "total 704\n",
      "drwxr-xr-x  6 niudong  staff   192B  6  8 11:03 \u001b[1m\u001b[36m.\u001b[m\u001b[m\n",
      "drwxr-xr-x  5 niudong  staff   160B  6  8 10:22 \u001b[1m\u001b[36m..\u001b[m\u001b[m\n",
      "-rw-r--r--@ 1 niudong  staff   6.0K  6  7 14:26 .DS_Store\n",
      "-rw-r--r--  1 niudong  staff   1.1K  6  8 20:54 test_v1_feature_text.npy\n",
      "-rw-r--r--  1 niudong  staff    16K  6  8 20:51 train_labels.npy\n",
      "-rw-r--r--  1 niudong  staff   313K  6  8 20:54 train_v1_feature_text.npy\n",
      "total 24\n",
      "drwxr-xr-x  6 niudong  staff   192B  6  8 22:21 \u001b[1m\u001b[36m.\u001b[m\u001b[m\n",
      "drwxr-xr-x  5 niudong  staff   160B  6  8 10:22 \u001b[1m\u001b[36m..\u001b[m\u001b[m\n",
      "-rw-r--r--@ 1 niudong  staff   6.0K  6  8 22:21 .DS_Store\n",
      "-rw-r--r--  1 niudong  staff   1.2K  6  8 22:21 lgb_gbdt_best_info.json\n",
      "drwxr-xr-x  8 niudong  staff   256B  6  8 22:21 \u001b[1m\u001b[36mtest\u001b[m\u001b[m\n",
      "drwxr-xr-x  8 niudong  staff   256B  6  8 22:21 \u001b[1m\u001b[36mtrain\u001b[m\u001b[m\n",
      "total 176\n",
      "drwxr-xr-x  8 niudong  staff   256B  6  8 22:21 \u001b[1m\u001b[36m.\u001b[m\u001b[m\n",
      "drwxr-xr-x  6 niudong  staff   192B  6  8 22:21 \u001b[1m\u001b[36m..\u001b[m\u001b[m\n",
      "-rw-r--r--@ 1 niudong  staff   6.0K  6  8 22:21 .DS_Store\n",
      "-rw-r--r--  1 niudong  staff    16K  6  8 22:21 lgb_gbdt_1560003697_0.558514_0.023809.npy\n",
      "-rw-r--r--  1 niudong  staff    16K  6  8 22:21 lgb_gbdt_1560003698_0.550423_0.015726.npy\n",
      "-rw-r--r--  1 niudong  staff    16K  6  8 22:21 lgb_gbdt_1560003700_0.540717_0.010145.npy\n",
      "-rw-r--r--  1 niudong  staff    16K  6  8 22:21 lgb_gbdt_1560003701_0.581442_0.034089.npy\n",
      "-rw-r--r--  1 niudong  staff    16K  6  8 22:21 lgb_gbdt_1560003702_0.556695_0.019030.npy\n",
      "total 56\n",
      "drwxr-xr-x  8 niudong  staff   256B  6  8 22:21 \u001b[1m\u001b[36m.\u001b[m\u001b[m\n",
      "drwxr-xr-x  6 niudong  staff   192B  6  8 22:21 \u001b[1m\u001b[36m..\u001b[m\u001b[m\n",
      "-rw-r--r--@ 1 niudong  staff   6.0K  6  8 22:21 .DS_Store\n",
      "-rw-r--r--  1 niudong  staff   176B  6  8 22:21 lgb_gbdt_1560003697_0.558514_0.023809.npy\n",
      "-rw-r--r--  1 niudong  staff   176B  6  8 22:21 lgb_gbdt_1560003698_0.550423_0.015726.npy\n",
      "-rw-r--r--  1 niudong  staff   176B  6  8 22:21 lgb_gbdt_1560003700_0.540717_0.010145.npy\n",
      "-rw-r--r--  1 niudong  staff   176B  6  8 22:21 lgb_gbdt_1560003701_0.581442_0.034089.npy\n",
      "-rw-r--r--  1 niudong  staff   176B  6  8 22:21 lgb_gbdt_1560003702_0.556695_0.019030.npy\n"
     ]
    }
   ],
   "source": [
    "!ls -alh stage2/input\n",
    "# !ls -alh stage2/output\n",
    "!ls -alh stage2/output/train\n",
    "!ls -alh stage2/output/test"
   ]
  },
  {
   "cell_type": "code",
   "execution_count": 54,
   "metadata": {},
   "outputs": [
    {
     "name": "stdout",
     "output_type": "stream",
     "text": [
      "{\r\n",
      " \"state\": 2,\r\n",
      " \"tid\": 2,\r\n",
      " \"spec\": null,\r\n",
      " \"result\": {\r\n",
      "  \"loss\": 0.5407171430006964,\r\n",
      "  \"loss_variance\": 0.010145220861677432,\r\n",
      "  \"status\": \"ok\",\r\n",
      "  \"file_name\": \"lgb_gbdt_1560003700_0.540717_0.010145.npy\"\r\n",
      " },\r\n",
      " \"misc\": {\r\n",
      "  \"tid\": 2,\r\n",
      "  \"cmd\": [\r\n",
      "   \"domain_attachment\",\r\n",
      "   \"FMinIter_Domain\"\r\n",
      "  ],\r\n",
      "  \"workdir\": null,\r\n",
      "  \"idxs\": {\r\n",
      "   \"bagging_fraction\": [\r\n",
      "    2\r\n",
      "   ],\r\n",
      "   \"bagging_freq\": [\r\n",
      "    2\r\n",
      "   ],\r\n",
      "   \"feature_fraction\": [\r\n",
      "    2\r\n",
      "   ],\r\n",
      "   \"learning_rate\": [\r\n",
      "    2\r\n",
      "   ],\r\n",
      "   \"max_bin\": [\r\n",
      "    2\r\n",
      "   ],\r\n",
      "   \"min_data_in_leaf\": [\r\n",
      "    2\r\n",
      "   ],\r\n",
      "   \"num_iterations\": [\r\n",
      "    2\r\n",
      "   ],\r\n",
      "   \"num_leaves\": [\r\n",
      "    2\r\n",
      "   ]\r\n",
      "  },\r\n",
      "  \"vals\": {\r\n",
      "   \"bagging_fraction\": [\r\n",
      "    0.7000000000000001\r\n",
      "   ],\r\n",
      "   \"bagging_freq\": [\r\n",
      "    2.0\r\n",
      "   ],\r\n",
      "   \"feature_fraction\": [\r\n",
      "    1.0\r\n",
      "   ],\r\n",
      "   \"learning_rate\": [\r\n",
      "    0.01\r\n",
      "   ],\r\n",
      "   \"max_bin\": [\r\n",
      "    0\r\n",
      "   ],\r\n",
      "   \"min_data_in_leaf\": [\r\n",
      "    30.0\r\n",
      "   ],\r\n",
      "   \"num_iterations\": [\r\n",
      "    200.0\r\n",
      "   ],\r\n",
      "   \"num_leaves\": [\r\n",
      "    55.0\r\n",
      "   ]\r\n",
      "  }\r\n",
      " },\r\n",
      " \"exp_key\": null,\r\n",
      " \"owner\": null,\r\n",
      " \"version\": 0,\r\n",
      " \"book_time\": \"2019-06-08 14:21:39\",\r\n",
      " \"refresh_time\": \"2019-06-08 14:21:40\",\r\n",
      " \"param\": {\r\n",
      "  \"bagging_fraction\": 0.7000000000000001,\r\n",
      "  \"bagging_freq\": 2.0,\r\n",
      "  \"feature_fraction\": 1.0,\r\n",
      "  \"learning_rate\": 0.01,\r\n",
      "  \"max_bin\": 0,\r\n",
      "  \"min_data_in_leaf\": 30.0,\r\n",
      "  \"num_iterations\": 200.0,\r\n",
      "  \"num_leaves\": 55.0\r\n",
      " }\r\n",
      "}"
     ]
    }
   ],
   "source": [
    "! cat stage2/output/lgb_gbdt_best_info.json"
   ]
  },
  {
   "cell_type": "markdown",
   "metadata": {
    "id": "4499F7C0462B47C7868E48CBA84CB123",
    "mdEditEnable": false
   },
   "source": [
    "## 结果提交"
   ]
  },
  {
   "cell_type": "code",
   "execution_count": 59,
   "metadata": {
    "id": "689D3652DF684413979E9ECEFE3FC1C1",
    "scrolled": false
   },
   "outputs": [],
   "source": [
    "res_id = \"lgb_gbdt_1560003700_0.540717_0.010145\"\n",
    "out_res_file = \"./stage2/output/test/\"+res_id+\".npy\"\n",
    "test_file = \"./stage1/input/test_copy.csv\""
   ]
  },
  {
   "cell_type": "code",
   "execution_count": 61,
   "metadata": {
    "id": "60FA271692C046C09ED130031F46ECD1",
    "scrolled": false
   },
   "outputs": [],
   "source": [
    "out_test_res = np.load(out_res_file)\n",
    "test_csv = ReadCSV(test_file, names=ORI_TEST_NAMES, iterator=False)\n",
    "res = pd.DataFrame({\n",
    "    \"query_id\": test_csv[\"query_id\"],\n",
    "    \"query_title_id\": test_csv[\"query_title_id\"],\n",
    "    \"label\":out_test_res\n",
    "})\n",
    "res.to_csv(\"./global/submits/\"+res_id+\".csv\", index=None, header=None)"
   ]
  },
  {
   "cell_type": "code",
   "execution_count": 62,
   "metadata": {},
   "outputs": [
    {
     "name": "stdout",
     "output_type": "stream",
     "text": [
      "total 8\r\n",
      "8 -rw-r--r--@ 1 niudong  staff   142B  6  8 22:47 lgb_gbdt_1560003700_0.540717_0.010145.csv\r\n"
     ]
    }
   ],
   "source": [
    "! ls -lsh ./global/submits"
   ]
  },
  {
   "cell_type": "code",
   "execution_count": 63,
   "metadata": {},
   "outputs": [
    {
     "name": "stdout",
     "output_type": "stream",
     "text": [
      "/bin/sh: ./kesci_submit: No such file or directory\r\n"
     ]
    }
   ],
   "source": [
    "!cd ./global/submits; ./kesci_submit -token 490475a1ae106f67 -file lgb_gbdt_1559990841_0.547674_0.003729.csv"
   ]
  }
 ],
 "metadata": {
  "kernelspec": {
   "display_name": "Python 3",
   "language": "python",
   "name": "python3"
  },
  "language_info": {
   "codemirror_mode": {
    "name": "ipython",
    "version": 3
   },
   "file_extension": ".py",
   "mimetype": "text/x-python",
   "name": "python",
   "nbconvert_exporter": "python",
   "pygments_lexer": "ipython3",
   "version": "3.6.5"
  }
 },
 "nbformat": 4,
 "nbformat_minor": 1
}
